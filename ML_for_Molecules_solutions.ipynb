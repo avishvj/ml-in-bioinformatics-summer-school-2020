{
 "cells": [
  {
   "cell_type": "markdown",
   "metadata": {},
   "source": [
    "# Tutorial for \"Advances in machine learning for molecules\" -- Solutions\n",
    "_Summer school for Machine Learning in Bioinformatics, Moscow_  \n",
    "John Bradshaw, August 2020\n",
    "\n",
    "This notebook has been designed to complement Miguel's lecture earlier this afternoon by demonstrating some of the concepts he discussed. We will begin by importing the associated dependencies to run this notebook, see the repo's README for details on how to get these installed. After this, we will then describe how one can manipulate molecules in [RDKIT](https://rdkit.org/), a popular chemoinformatics toolkit, of which no existing knowledge of is expected. We will then go on to implementing and testing the regression models on molecules Miguel described, namely MLP on fingerints, RNN/CNN on SMILES strings, and GNNs on the molecular graph. \n",
    "\n",
    "Tasks which you need to complete I have labelled with **🧪 Task #** , and the missing code location with `# ====== TASK -- FILL IN ======` in the code cell. Completing these will require some basic knowledge of [PyTorch](https://pytorch.org/), if you haven't used this before you can go through the tutorial [here](https://pytorch.org/tutorials/beginner/deep_learning_60min_blitz.html) or read through the [docs](https://pytorch.org/docs/stable/index.html) as and when this is needed (I've tried to add links to relevant parts where appropriate). I wasn't sure on everyone's background so I apologize if this notebook is either too long or too short. To this end there are some optional tasks (marked with 🕰 ) which you can do later or simply ignore! I have also tried to include links at the end of each section for further reading. Finally, if you spot any bugs/typos (sorry  😳 ), please create a GitHub issue or PR and I can fix them!\n"
   ]
  },
  {
   "cell_type": "markdown",
   "metadata": {},
   "source": [
    "## 1. Imports\n",
    "\n",
    "This section will start by installing any missing packages if you're running in Colab. Then it will import all the required modules needed later. See the repo's README for further details about installation.\n",
    "\n",
    "### Install missing packages on Google Colab\n",
    "\n",
    "If you're running on Colab the cell below should install the missing requirements.\n"
   ]
  },
  {
   "cell_type": "code",
   "execution_count": 1,
   "metadata": {},
   "outputs": [
    {
     "name": "stdout",
     "output_type": "stream",
     "text": [
      "Not in Colab, ensure that you have setup the required packages in an alternative way (e.g. via Conda).\n"
     ]
    }
   ],
   "source": [
    "\n",
    "# Some standard library imports that we need to run the rest of this cell:\n",
    "import os\n",
    "import sys\n",
    "import requests\n",
    "import subprocess\n",
    "import shutil\n",
    "from logging import getLogger, StreamHandler, INFO\n",
    "\n",
    "\n",
    "# We are first going to check if we are in Colab.\n",
    "IN_COLAB = 'google.colab' in sys.modules\n",
    "\n",
    "# If in Colab then we will install some more packages\n",
    "if IN_COLAB:\n",
    "    print(\"Detected that you're running the notebook in Colab --\"\n",
    "          \"will install mising packages (this can take a few ming)\")\n",
    "    !python --version\n",
    "    \n",
    "    # Some missing things which can be obtained through pip\n",
    "    !pip install pytorch-ignite \n",
    "    !pip install watermark\n",
    "    \n",
    "    # We need to clone our repo and go inside so that can load our  module/dataset\n",
    "    ! git clone https://github.com/john-bradshaw/ml-in-bioinformatics-summer-school-2020\n",
    "    os.chdir('ml-in-bioinformatics-summer-school-2020')\n",
    "\n",
    "    # We are now going to install RDKit (chemoinformatics toolkit) \n",
    "    # I've copied the code to do this from: https://gist.github.com/philopon/a75a33919d9ae41dbed5bc6a39f5ede2\n",
    "    # Which attempts to install it via miniconda with the same Python version as Colab is using and then adding\n",
    "    # the miniconda site-packages directory to the path.\n",
    "    logger = getLogger(__name__)\n",
    "    logger.addHandler(StreamHandler())\n",
    "    logger.setLevel(INFO)\n",
    "    \n",
    "    \n",
    "    def install(\n",
    "            chunk_size=4096,\n",
    "            file_name=\"Miniconda3-latest-Linux-x86_64.sh\",\n",
    "            url_base=\"https://repo.continuum.io/miniconda/\",\n",
    "            conda_path=os.path.expanduser(os.path.join(\"~\", \"miniconda\")),\n",
    "            rdkit_version=None,\n",
    "            add_python_path=True,\n",
    "            force=False):\n",
    "        \"\"\"install rdkit from miniconda\n",
    "        ```\n",
    "        import rdkit_installer\n",
    "        rdkit_installer.install()\n",
    "        ```\n",
    "        \"\"\"\n",
    "\n",
    "        python_path = os.path.join(\n",
    "            conda_path,\n",
    "            \"lib\",\n",
    "            \"python{0}.{1}\".format(*sys.version_info),\n",
    "            \"site-packages\",\n",
    "        )\n",
    "\n",
    "        if add_python_path and python_path not in sys.path:\n",
    "            logger.info(\"add {} to PYTHONPATH\".format(python_path))\n",
    "            sys.path.append(python_path)\n",
    "\n",
    "        if os.path.isdir(os.path.join(python_path, \"rdkit\")):\n",
    "            logger.info(\"rdkit is already installed\")\n",
    "            if not force:\n",
    "                return\n",
    "\n",
    "            logger.info(\"force re-install\")\n",
    "\n",
    "        url = url_base + file_name\n",
    "        python_version = \"{0}.{1}.{2}\".format(*sys.version_info)\n",
    "\n",
    "        logger.info(\"python version: {}\".format(python_version))\n",
    "\n",
    "        if os.path.isdir(conda_path):\n",
    "            logger.warning(\"remove current miniconda\")\n",
    "            shutil.rmtree(conda_path)\n",
    "        elif os.path.isfile(conda_path):\n",
    "            logger.warning(\"remove {}\".format(conda_path))\n",
    "            os.remove(conda_path)\n",
    "\n",
    "        logger.info('fetching installer from {}'.format(url))\n",
    "        res = requests.get(url, stream=True)\n",
    "        res.raise_for_status()\n",
    "        with open(file_name, 'wb') as f:\n",
    "            for chunk in res.iter_content(chunk_size):\n",
    "                f.write(chunk)\n",
    "        logger.info('done')\n",
    "\n",
    "        logger.info('installing miniconda to {}'.format(conda_path))\n",
    "        subprocess.check_call([\"bash\", file_name, \"-b\", \"-p\", conda_path])\n",
    "        logger.info('done')\n",
    "\n",
    "        logger.info(\"installing rdkit\")\n",
    "        subprocess.check_call([\n",
    "            os.path.join(conda_path, \"bin\", \"conda\"),\n",
    "            \"install\",\n",
    "            \"--yes\",\n",
    "            \"-c\", \"rdkit\",\n",
    "            \"python=={}\".format(python_version),\n",
    "            \"rdkit\" if rdkit_version is None else \"rdkit=={}\".format(rdkit_version)])\n",
    "        logger.info(\"done\")\n",
    "\n",
    "        import rdkit\n",
    "        logger.info(\"rdkit-{} installation finished!\".format(rdkit.__version__))\n",
    "\n",
    "\n",
    "    install()\n",
    "\n",
    "    print(\"Installed Colab specifics -- now try running the cells below.\")\n",
    "else:\n",
    "    print(\"Not in Colab, ensure that you have setup the required packages in an alternative way (e.g. via Conda).\")\n",
    "\n"
   ]
  },
  {
   "cell_type": "markdown",
   "metadata": {},
   "source": [
    "### Imports\n",
    "\n",
    "We can now check that the installation worked correctly by making sure we can import the required Python modules by running the code cells below."
   ]
  },
  {
   "cell_type": "code",
   "execution_count": 2,
   "metadata": {},
   "outputs": [],
   "source": [
    "# = import items from the Python standard library\n",
    "\n",
    "import functools\n",
    "import typing\n",
    "import importlib\n",
    "import itertools\n",
    "import copy"
   ]
  },
  {
   "cell_type": "code",
   "execution_count": 3,
   "metadata": {},
   "outputs": [],
   "source": [
    "# = import numpy, matplotlib and other useful common libraries\n",
    "\n",
    "import numpy as np\n",
    "import pandas as pd\n",
    "import matplotlib.pyplot as plt\n",
    "from IPython.core.debugger import set_trace  # for debugging\n",
    "import tabulate\n",
    "import altair as alt\n",
    "from IPython.core.display import display, HTML\n",
    "#alt.renderers.enable('notebook')\n"
   ]
  },
  {
   "cell_type": "code",
   "execution_count": 4,
   "metadata": {},
   "outputs": [],
   "source": [
    "# = import the parts of RDKit that we need\n",
    "import rdkit\n",
    "from rdkit import Chem\n",
    "from rdkit.Chem import AllChem\n",
    "from rdkit.Chem import Draw\n",
    "from rdkit.Chem import PandasTools\n"
   ]
  },
  {
   "cell_type": "code",
   "execution_count": 5,
   "metadata": {},
   "outputs": [],
   "source": [
    "# = import the parts of PyRorch that we need\n",
    "\n",
    "import torch\n",
    "from torch.utils import data \n",
    "from torch import nn\n",
    "from torch.nn import functional as F\n"
   ]
  },
  {
   "cell_type": "code",
   "execution_count": 6,
   "metadata": {},
   "outputs": [],
   "source": [
    "# = import the local Python modules we have written\n",
    "import ss_utils"
   ]
  },
  {
   "cell_type": "code",
   "execution_count": 7,
   "metadata": {},
   "outputs": [
    {
     "name": "stdout",
     "output_type": "stream",
     "text": [
      "CPython 3.7.7\n",
      "IPython 7.17.0\n",
      "\n",
      "numpy 1.19.1\n",
      "scipy 1.5.2\n",
      "torch 1.6.0\n",
      "Git hash: 7033e97884b1009a6adf26902ac6aaf0a9ee03e8\n",
      "RDKit: 2020.03.1\n"
     ]
    }
   ],
   "source": [
    "# = print out our environment  -- doesn't matter if this cell does not work\n",
    "%load_ext watermark\n",
    "%watermark -v  -p numpy,scipy,torch -g\n",
    "print(f\"RDKit: {rdkit.__version__}\")"
   ]
  },
  {
   "cell_type": "markdown",
   "metadata": {},
   "source": [
    "If that all worked, great! We can move onto the next section where we describe how to get started with RDKit."
   ]
  },
  {
   "cell_type": "markdown",
   "metadata": {},
   "source": [
    "## 2. Manipulating Molecules using RDKit\n",
    "\n",
    "This section will describe different ways to represent molecules. We reintroduce the SMILES string format (you should have already seen this in Miguel's lecture) and describe how one can read in these strings using RDKit and plot the resulting molecules.\n",
    "We then go on to show how you can convert SMILES to alternative molecular representations, such as molecular graphs and fingerprints. \n",
    "\n",
    "### 2.1 Reading in SMILES strings\n",
    "\n",
    "SMILES (Simplified molecular-input line-entry system) proposed by Weininger (1988) is a popular method to represent molecules as ASCII strings. The string is created by printing out the nodes found on a traversal of the molecular graph. For our purposes it is not particularly important how this traversal happens but note how atoms are represented by their usual element symbol (i.e. carbon by 'C', oxygen by 'O', etc), bonds by the symbols `. - = # $ : / \\`, branching by parentheses, and rings by numbers. \n",
    "\n",
    "If this is confusing don't worry, this will probably be made clearer by a few examples! Let's start by defining a string variable containing the SMILES representation of the paracetemol (i.e. acetaminophen) molecule, a popular painkiller (although I very much hope this notebook does _not_ require it!), and reading it into RDKit."
   ]
  },
  {
   "cell_type": "code",
   "execution_count": 8,
   "metadata": {},
   "outputs": [
    {
     "data": {
      "image/png": "[encoded data removed]",
      "text/plain": [
       "<PIL.PngImagePlugin.PngImageFile image mode=RGB size=300x300 at 0x7F9CF3E62610>"
      ]
     },
     "execution_count": 8,
     "metadata": {},
     "output_type": "execute_result"
    }
   ],
   "source": [
    "paracetemol_str = 'CC(=O)Nc1ccc(O)cc1'\n",
    "\n",
    "paracetemol_mol = Chem.MolFromSmiles(paracetemol_str)\n",
    "\n",
    "Draw.MolToImage(paracetemol_mol)"
   ]
  },
  {
   "cell_type": "markdown",
   "metadata": {},
   "source": [
    "Note that there is a one-to-many mapping between molecules and their SMILES string representations depending on how one traverses the molecular graph. For instance below we print out 5 different SMILES representations for paracetemol:"
   ]
  },
  {
   "cell_type": "code",
   "execution_count": 9,
   "metadata": {},
   "outputs": [
    {
     "name": "stdout",
     "output_type": "stream",
     "text": [
      "Paracetemol can be represented by any of these SMILES (and others): O=C(Nc1ccc(O)cc1)C, c1(O)ccc(NC(=O)C)cc1, c1(O)ccc(NC(=O)C)cc1, O=C(C)Nc1ccc(O)cc1, c1c(NC(C)=O)ccc(O)c1.\n"
     ]
    }
   ],
   "source": [
    "rng = np.random.RandomState(10)\n",
    "\n",
    "# We will then print 5 \n",
    "paracetemol_random_smiles = [ss_utils.random_ordered_smiles(paracetemol_str, rng) for _ in range(5)]\n",
    "print(f\"Paracetemol can be represented by any of these SMILES (and others): {', '.join(paracetemol_random_smiles)}.\")"
   ]
  },
  {
   "cell_type": "markdown",
   "metadata": {},
   "source": [
    "However, sometimes we want to ensure that we print out a unique SMILES for each molecule, which is useful for instance when comparing two SMILES strings. For this we can use RDKit to compute the _canonical_ SMILES. So in the next cell we read in each of these randomly chosen SMILES for paracetemol back in and convert them to canonical form: "
   ]
  },
  {
   "cell_type": "code",
   "execution_count": 10,
   "metadata": {},
   "outputs": [
    {
     "data": {
      "text/plain": [
       "{'CC(=O)Nc1ccc(O)cc1'}"
      ]
     },
     "execution_count": 10,
     "metadata": {},
     "output_type": "execute_result"
    }
   ],
   "source": [
    "set([Chem.MolToSmiles(Chem.MolFromSmiles(smi), canonical=True) for smi in paracetemol_random_smiles])\n",
    "# ^ set should only have one string in it -- incidently the same as we started with as I began with the canonical representation.\n"
   ]
  },
  {
   "cell_type": "markdown",
   "metadata": {},
   "source": [
    "See we have ended up with only one representation, the canonical representation!\n",
    "\n",
    "Once we have converted the SMILES to a RDKit `Mol` object (which happened when running `Chem.MolFromSmiles`) we can manipulate it in different ways. For example, we can iterate through the atoms or bonds:"
   ]
  },
  {
   "cell_type": "code",
   "execution_count": 11,
   "metadata": {},
   "outputs": [
    {
     "name": "stdout",
     "output_type": "stream",
     "text": [
      "Atom element: C, atomic number: 6, number of hydrogens 3\n",
      "Atom element: C, atomic number: 6, number of hydrogens 0\n",
      "Atom element: O, atomic number: 8, number of hydrogens 0\n",
      "Atom element: N, atomic number: 7, number of hydrogens 1\n",
      "Atom element: C, atomic number: 6, number of hydrogens 0\n",
      "Atom element: C, atomic number: 6, number of hydrogens 1\n",
      "Atom element: C, atomic number: 6, number of hydrogens 1\n",
      "Atom element: C, atomic number: 6, number of hydrogens 0\n",
      "Atom element: O, atomic number: 8, number of hydrogens 1\n",
      "Atom element: C, atomic number: 6, number of hydrogens 1\n",
      "Atom element: C, atomic number: 6, number of hydrogens 1\n",
      "\n",
      "\n",
      "\n",
      "Bond from 0 to 1 and is of type SINGLE.\n",
      "Bond from 1 to 2 and is of type DOUBLE.\n",
      "Bond from 1 to 3 and is of type SINGLE.\n",
      "Bond from 3 to 4 and is of type SINGLE.\n",
      "Bond from 4 to 5 and is of type AROMATIC.\n",
      "Bond from 5 to 6 and is of type AROMATIC.\n",
      "Bond from 6 to 7 and is of type AROMATIC.\n",
      "Bond from 7 to 8 and is of type SINGLE.\n",
      "Bond from 7 to 9 and is of type AROMATIC.\n",
      "Bond from 9 to 10 and is of type AROMATIC.\n",
      "Bond from 10 to 4 and is of type AROMATIC.\n"
     ]
    }
   ],
   "source": [
    "# Iterate through the atoms. Print their symbol,  atomic number, and number of Hydrogens\n",
    "for atm in paracetemol_mol.GetAtoms():\n",
    "    print(f\"Atom element: {atm.GetSymbol()}, atomic number: {atm.GetAtomicNum()}, number of hydrogens {atm.GetTotalNumHs()}\")\n",
    "\n",
    "    \n",
    "print(\"\\n\\n\")\n",
    "\n",
    "\n",
    "# Iterate through the bonds..\n",
    "for bnd in paracetemol_mol.GetBonds():\n",
    "    print(f\"Bond from {bnd.GetBeginAtomIdx()} to {bnd.GetEndAtomIdx()} and is of type {bnd.GetBondType()}.\")\n"
   ]
  },
  {
   "cell_type": "markdown",
   "metadata": {},
   "source": [
    "Can you match up the two oxygens printed out to the two oxygens in the molecular graph plotted earlier?\n",
    "If you want you can experiment with obtaining more details about the particular atoms or bonds, the APIs are [here](https://www.rdkit.org/docs/cppapi/classRDKit_1_1Atom.html) and [here](https://www.rdkit.org/docs/cppapi/classRDKit_1_1Bond.html).\n",
    "\n",
    "Note that when we iterated through the atoms we also printed the number of hydrogen atoms attached. You may have spotted that these hydrogen atoms were not included in the original SMILES string. In general we ignore the hydrogen atoms (they are treated implicitly) but we can include them in SMILES strings if we wanted:"
   ]
  },
  {
   "cell_type": "code",
   "execution_count": 12,
   "metadata": {},
   "outputs": [
    {
     "name": "stdout",
     "output_type": "stream",
     "text": [
      "[CH3][C](=[O])[NH][c]1[cH][cH][c]([OH])[cH][cH]1\n"
     ]
    }
   ],
   "source": [
    "print(Chem.MolToSmiles(paracetemol_mol, allHsExplicit=True))"
   ]
  },
  {
   "cell_type": "markdown",
   "metadata": {},
   "source": [
    "We can also print out to other string representations. For instance below we will print out the InChI and InChIKey representations (Heller, 2013):"
   ]
  },
  {
   "cell_type": "code",
   "execution_count": 13,
   "metadata": {},
   "outputs": [
    {
     "name": "stdout",
     "output_type": "stream",
     "text": [
      "InChI=1S/C8H9NO2/c1-6(10)9-7-2-4-8(11)5-3-7/h2-5,11H,1H3,(H,9,10)\n",
      "RZVAJINKPMORJF-UHFFFAOYSA-N\n"
     ]
    }
   ],
   "source": [
    "print(Chem.MolToInchi(paracetemol_mol))\n",
    "print(Chem.MolToInchiKey(paracetemol_mol))"
   ]
  },
  {
   "cell_type": "markdown",
   "metadata": {},
   "source": [
    "### 2.2 Moving beyond character string representations\n",
    "\n",
    "Of course, as you saw in the lecture earlier, character strings are not the only way to represent molecules. An alternative approach is to represent molecules as molecular fingerprints. For instance if we want to compute the Morgan fingerprints of the paracetemol molecule we can do so as follows:"
   ]
  },
  {
   "cell_type": "code",
   "execution_count": 14,
   "metadata": {},
   "outputs": [
    {
     "name": "stdout",
     "output_type": "stream",
     "text": [
      "Morgan fingerprint for paracetemol is [0. 0. 0. ... 0. 0. 0.]\n",
      "The non-zero indices of the Morgan fingerprint for paracetemol are (array([  33,   53,  128,  191,  245,  289,  356,  530,  578,  650,  726,\n",
      "        745,  754,  792,  807,  843,  849,  893, 1017]),)\n"
     ]
    }
   ],
   "source": [
    "\n",
    "# We'll define a function to take in the SMILES string and return the Morgan fingerprint as a numpy array.\n",
    "# this function will be wrapped inside a least recently used (LRU) cache -- you can ignore this, \n",
    "# it just saves a bit of compute later\n",
    "\n",
    "@functools.lru_cache(int(1e6))\n",
    "def morgan_fp_from_smiles(smiles_str, radius=2, number_bits=1024):\n",
    "    mol = AllChem.MolFromSmiles(smiles_str)\n",
    "    # although it is a bit vector we will represent it as float array in numpy so that can be input more easily into NN later\n",
    "    return np.array(AllChem.GetMorganFingerprintAsBitVect(mol, radius, nBits=number_bits), dtype=np.float32)\n",
    "\n",
    "\n",
    "# Having set up this function we can now use it on the paracetemol SMILES string:\n",
    "print(f\"Morgan fingerprint for paracetemol is {morgan_fp_from_smiles(paracetemol_str)}\")\n",
    "\n",
    "# Most of the elements are zero but a few bits will also be set:\n",
    "print(f\"The non-zero indices of the Morgan fingerprint for paracetemol\"\n",
    "      f\" are {np.nonzero(morgan_fp_from_smiles(paracetemol_str))}\")\n"
   ]
  },
  {
   "cell_type": "markdown",
   "metadata": {},
   "source": [
    "Note unlike the mapping from SMILES to molecule, there is not necessarily a one-to-one mapping from fingerprint to molecule. \n",
    "\n",
    "These fingerprints can be used as feature vectors for ML models (as we shall see later). Fingerprints can also be used to compare molecules and obtain a relatively cheap-to-compute notion of similarity between different molecules. A common way to do this is through the Tanimoto similarity between two fingerprints:\n",
    "\n",
    "\\begin{array}\n",
    "\\textrm{Tanimoto}(\\textrm{fp}^1, \\textrm{fp}^1) = \\frac{\\sum_i \\textrm{fp}^1_i \\wedge \\textrm{fp}^2_i}{\\sum_i \\textrm{fp}^1_i \\vee \\textrm{fp}^2_i},\n",
    "\\end{array}\n",
    "\n",
    "where $\\wedge$ and $\\vee$ are the \"bitwise and\" and \"bitwise or\" expressions respectively. \n",
    "\n",
    "🧪   **Task 1:** Code up a function to take in two SMILES strings and compute their Tanimoto similarity. Use this function to look at the similarity between paracetemol and the molecules defined in the list below (feel free to also plot their structures)."
   ]
  },
  {
   "cell_type": "code",
   "execution_count": 15,
   "metadata": {
    "scrolled": false
   },
   "outputs": [
    {
     "name": "stdout",
     "output_type": "stream",
     "text": [
      "Glucose\n"
     ]
    },
    {
     "data": {
      "image/png": "[encoded data removed]",
      "text/plain": [
       "<Figure size 216x216 with 1 Axes>"
      ]
     },
     "metadata": {
      "needs_background": "light"
     },
     "output_type": "display_data"
    },
    {
     "name": "stdout",
     "output_type": "stream",
     "text": [
      "0.02857142857142857\n",
      "\n",
      "\n",
      "\n",
      "\n",
      "\n",
      "\n",
      "Thiamine (Vitamin B1)\n"
     ]
    },
    {
     "data": {
      "image/png": "[encoded data removed]",
      "text/plain": [
       "<Figure size 216x216 with 1 Axes>"
      ]
     },
     "metadata": {
      "needs_background": "light"
     },
     "output_type": "display_data"
    },
    {
     "name": "stdout",
     "output_type": "stream",
     "text": [
      "0.07142857142857142\n",
      "\n",
      "\n",
      "\n",
      "\n",
      "\n",
      "\n",
      "Ibuprofen\n"
     ]
    },
    {
     "data": {
      "image/png": "[encoded data removed]",
      "text/plain": [
       "<Figure size 216x216 with 1 Axes>"
      ]
     },
     "metadata": {
      "needs_background": "light"
     },
     "output_type": "display_data"
    },
    {
     "name": "stdout",
     "output_type": "stream",
     "text": [
      "0.1891891891891892\n",
      "\n",
      "\n",
      "\n",
      "\n",
      "\n",
      "\n"
     ]
    }
   ],
   "source": [
    "def tanimoto_similarity(smiles_str_1, smiles_str_2):\n",
    "    fp1 = morgan_fp_from_smiles(smiles_str_1)\n",
    "    fp2 = morgan_fp_from_smiles(smiles_str_2)\n",
    "    # nb although the fingerprints are binary we are treating them as floats in numpy\n",
    "    return np.sum(fp1*fp2) / np.sum((fp1+fp2) > 0) \n",
    "\n",
    "molecules_to_compare = {\n",
    "    'Glucose': 'OC[C@H]1OC(O)[C@H](O)[C@@H](O)[C@@H]1O',  \n",
    "    'Thiamine (Vitamin B1)': 'Cc1c(sc[n+]1Cc2cnc([nH]c2=N)C)CCO',   \n",
    "    'Ibuprofen': 'CC(C)Cc1ccc(cc1)[C@@H](C)C(=O)O'   \n",
    "}\n",
    "\n",
    "for name, other_smi in molecules_to_compare.items():\n",
    "    print(name)\n",
    "    Draw.MolToMPL(Chem.MolFromSmiles(other_smi))\n",
    "    plt.show()\n",
    "    print(tanimoto_similarity(paracetemol_str, other_smi))\n",
    "    print(\"\\n\"*5)\n"
   ]
  },
  {
   "cell_type": "markdown",
   "metadata": {},
   "source": [
    "Which is most similar using this metric? Does this match your intuitions?\n",
    "\n",
    "🕰  **(optional) Task A -- Similarity Maps:** Look at producing a similarity map to visualize the similarity between paracetemol and the other molecules considered. RDKit has built-in functionality to produce these plots, which is documented [here](http://www.rdkit.org/docs/GettingStartedInPython.html#fingerprinting-and-molecular-similarity).\n",
    "\n",
    "\n",
    "Fingerprints are useful as a vector representation that can be used directly with many common ML algorithms. However, it is also useful to have access to a graph representation of the molecule, for use with ML models that work directly on graphs, such as SVMs with graph kernels (Shervashidze, 2011) or graph neural networks (GNNs) (Duvenaud, 2015; Gilmer, 2017). For graph neural networks we need a suitable way to represent graphs as tensors/arrays so that they can be manipulated using deep learning libraries/frameworks. One possible useful array representation is the node feature list and adjacency matrix of a molecule:"
   ]
  },
  {
   "cell_type": "code",
   "execution_count": 16,
   "metadata": {},
   "outputs": [
    {
     "name": "stdout",
     "output_type": "stream",
     "text": [
      "Node features:\n",
      " [[1. 0. 0.]\n",
      " [1. 0. 0.]\n",
      " [0. 0. 1.]\n",
      " [0. 1. 0.]\n",
      " [1. 0. 0.]\n",
      " [1. 0. 0.]\n",
      " [1. 0. 0.]\n",
      " [1. 0. 0.]\n",
      " [0. 0. 1.]\n",
      " [1. 0. 0.]\n",
      " [1. 0. 0.]]\n",
      "\n",
      "\n",
      "Adjacency matrix:\n",
      " [[0.  1.  0.  0.  0.  0.  0.  0.  0.  0.  0. ]\n",
      " [1.  0.  2.  1.  0.  0.  0.  0.  0.  0.  0. ]\n",
      " [0.  2.  0.  0.  0.  0.  0.  0.  0.  0.  0. ]\n",
      " [0.  1.  0.  0.  1.  0.  0.  0.  0.  0.  0. ]\n",
      " [0.  0.  0.  1.  0.  1.5 0.  0.  0.  0.  1.5]\n",
      " [0.  0.  0.  0.  1.5 0.  1.5 0.  0.  0.  0. ]\n",
      " [0.  0.  0.  0.  0.  1.5 0.  1.5 0.  0.  0. ]\n",
      " [0.  0.  0.  0.  0.  0.  1.5 0.  1.  1.5 0. ]\n",
      " [0.  0.  0.  0.  0.  0.  0.  1.  0.  0.  0. ]\n",
      " [0.  0.  0.  0.  0.  0.  0.  1.5 0.  0.  1.5]\n",
      " [0.  0.  0.  0.  1.5 0.  0.  0.  0.  1.5 0. ]]\n"
     ]
    }
   ],
   "source": [
    "# Compute the node feature list\n",
    "class SymbolFeaturizer:\n",
    "    \"\"\"\n",
    "    Symbol featurizer takes in a symbol and returns an array representing its\n",
    "    one-hot encoding.\n",
    "    \"\"\"\n",
    "    def __init__(self, symbols, feature_size=None):\n",
    "        self.atm2indx = {k:i for i, k in enumerate(symbols)}\n",
    "        self.indx2atm = {v:k for k,v in self.atm2indx.items()}\n",
    "        self.feature_size = feature_size if feature_size is not None else len(symbols)\n",
    "    \n",
    "    def __call__(self, atom_symbol):\n",
    "        out = np.zeros(self.feature_size)\n",
    "        out[self.atm2indx[atom_symbol]] = 1.\n",
    "        return out\n",
    "\n",
    "    \n",
    "atm_featurizer = SymbolFeaturizer(['C', 'N', 'O'])\n",
    "node_features = [atm_featurizer(atm.GetSymbol()) for atm in paracetemol_mol.GetAtoms()]\n",
    "node_features = np.array(node_features)\n",
    "print(f\"Node features:\\n {node_features}\")\n",
    "\n",
    "\n",
    "# Compute the adjacency matrix for paracetemol from rdkit \n",
    "num_nodes = paracetemol_mol.GetNumAtoms()\n",
    "adj_mat = np.zeros((num_nodes, num_nodes))\n",
    "\n",
    "for bnd in paracetemol_mol.GetBonds():\n",
    "    adj_mat[bnd.GetBeginAtomIdx(), bnd.GetEndAtomIdx()] = bnd.GetBondTypeAsDouble()  \n",
    "    adj_mat[bnd.GetEndAtomIdx(), bnd.GetBeginAtomIdx()] = bnd.GetBondTypeAsDouble()\n",
    "\n",
    "print(f\"\\n\\nAdjacency matrix:\\n {adj_mat}\")"
   ]
  },
  {
   "cell_type": "markdown",
   "metadata": {},
   "source": [
    "Note that many of the elements of the adjacency matrix are zero -- our graph is sparse. The adjacency matrix is a useful representation in many ways, for instance we can quickly compute the degree of a node by looking along the relebant row. However, when we want to batch up multiple graphs together, using the adjacency matrix representation will require us to add padding to account for different sized graphs. An alternative is to store the edge information as a list of edges as well as a list of edge features. So for example with paracetemol we could represent it as:\n",
    "\n",
    "\\begin{array}\n",
    "\\textrm{edge\\_list} = \\begin{bmatrix}\n",
    "[0, 1] \\\\\n",
    "[1, 0] \\\\\n",
    "[1, 2]  \\\\\n",
    "[2, 1]  \\\\\n",
    "[1, 3]  \\\\\n",
    "[3, 1]  \\\\\n",
    "[3, 4]  \\\\\n",
    "[4, 3]  \\\\\n",
    "[4, 5]  \\\\\n",
    "[5, 4]  \\\\\n",
    "[5, 6]  \\\\\n",
    "[6, 5]  \\\\\n",
    "[6, 7]  \\\\\n",
    "[7, 6]  \\\\\n",
    "[7, 8]  \\\\\n",
    "[8, 7]  \\\\\n",
    "[7, 9]  \\\\\n",
    "[9, 7]  \\\\\n",
    "[9, 10]  \\\\\n",
    "[10, 9]  \\\\\n",
    "[10, 4]  \\\\\n",
    "[4, 10]  \\\\\n",
    "\\end{bmatrix}\n",
    "\\end{array}\n",
    "\n",
    "\\begin{array}\n",
    "\\textrm{edge\\_features} = \\begin{bmatrix}\n",
    "1 \\\\\n",
    "1 \\\\\n",
    "2  \\\\\n",
    "2  \\\\\n",
    "1  \\\\\n",
    "1  \\\\\n",
    "1  \\\\\n",
    "1  \\\\\n",
    "1.5  \\\\\n",
    "1.5  \\\\\n",
    "1.5  \\\\\n",
    "1.5  \\\\\n",
    "1.5  \\\\\n",
    "1.5  \\\\\n",
    "1  \\\\\n",
    "1  \\\\\n",
    "1.5 \\\\\n",
    "1.5  \\\\\n",
    "1.5  \\\\\n",
    "1.5 \\\\\n",
    "1.5  \\\\\n",
    "1.5  \\\\\n",
    "\\end{bmatrix}\n",
    "\\end{array}\n",
    "\n",
    "\n",
    "When we have assigned the following indices to the atoms:\n",
    "\n",
    "\n",
    "<img src=\"https://raw.githubusercontent.com/john-bradshaw/ml-in-bioinformatics-summer-school-2020/master/imgs/paracetemol_atom_mapped.svg\" width=\"250px\" />\n",
    "\n",
    "Although, as you'll see later, it does not actually matter in which order we assign indices to the atoms, or the order in which we decide to include the edges -- the GNNs will be invariant to this ordering. Also note that, as the edges are undirected, we include them going both ways.\n",
    "\n",
    "\n",
    "🧪   **Task 2:** Code up a function to take in a RDKit `Mol` object and return three numpy arrays: the node features array (use the same atom featurizer we defined above), the edge list array and the edge features array. You can index the atoms however you like as long as you are consistent across the three different arrays.\n"
   ]
  },
  {
   "cell_type": "code",
   "execution_count": 17,
   "metadata": {},
   "outputs": [
    {
     "name": "stdout",
     "output_type": "stream",
     "text": [
      "Node feature list:\n",
      "[[1. 0. 0.]\n",
      " [1. 0. 0.]\n",
      " [0. 0. 1.]\n",
      " [0. 1. 0.]\n",
      " [1. 0. 0.]\n",
      " [1. 0. 0.]\n",
      " [1. 0. 0.]\n",
      " [1. 0. 0.]\n",
      " [0. 0. 1.]\n",
      " [1. 0. 0.]\n",
      " [1. 0. 0.]]\n",
      "\n",
      "Edge list:\n",
      "[[ 0  1]\n",
      " [ 1  0]\n",
      " [ 1  2]\n",
      " [ 2  1]\n",
      " [ 1  3]\n",
      " [ 3  1]\n",
      " [ 3  4]\n",
      " [ 4  3]\n",
      " [ 4  5]\n",
      " [ 5  4]\n",
      " [ 5  6]\n",
      " [ 6  5]\n",
      " [ 6  7]\n",
      " [ 7  6]\n",
      " [ 7  8]\n",
      " [ 8  7]\n",
      " [ 7  9]\n",
      " [ 9  7]\n",
      " [ 9 10]\n",
      " [10  9]\n",
      " [10  4]\n",
      " [ 4 10]]\n",
      "\n",
      "Edge feature list:\n",
      "[1.  1.  2.  2.  1.  1.  1.  1.  1.5 1.5 1.5 1.5 1.5 1.5 1.  1.  1.5 1.5\n",
      " 1.5 1.5 1.5 1.5]\n"
     ]
    }
   ],
   "source": [
    "def mol_to_edge_list_graph(mol: Chem.Mol, atm_featurizer: SymbolFeaturizer) -> typing.Tuple[np.ndarray, np.ndarray, np.ndarray]:\n",
    "    \"\"\"\n",
    "    Function that takes in a RDKit molecule (of N atoms, E bonds) and returns three numpy arrays:\n",
    "    * the node features array (of dtype np.float32, shape [N, d]), which is a one hot encoding \n",
    "    of the element of each atom type.\n",
    "    * the edge list (of dtype np.int32, shape [2E, 2]) that represents the start and end index\n",
    "    of each edge.\n",
    "    * the edge feature list (of dtype np.float32, shape [2E, 1]) which describes the feature type\n",
    "    associated with each edge.\n",
    "    \"\"\"\n",
    "    # Node features\n",
    "    node_features = [atm_featurizer(atm.GetSymbol()) for atm in mol.GetAtoms()]\n",
    "    node_features = np.array(node_features, dtype=np.float32)\n",
    "    \n",
    "    # Edge list and edge feature list\n",
    "    edge_list = []\n",
    "    edge_feature_list = []\n",
    "    for bnd in mol.GetBonds():\n",
    "        bnd_indices = [bnd.GetBeginAtomIdx(), bnd.GetEndAtomIdx()]\n",
    "        bnd_type = bnd.GetBondTypeAsDouble()\n",
    "        edge_list.extend([bnd_indices,  bnd_indices[::-1]])\n",
    "        edge_feature_list.extend([bnd_type, bnd_type])\n",
    "    edge_list = np.array(edge_list, dtype=np.int32)\n",
    "    edge_feature_list = np.array(edge_feature_list, dtype=np.float32)\n",
    "    \n",
    "    return node_features, edge_list, edge_feature_list\n",
    "    \n",
    "\n",
    "node_features, edge_list, edge_feature_list = mol_to_edge_list_graph(paracetemol_mol, atm_featurizer)\n",
    "print(f\"Node feature list:\\n{node_features}\")\n",
    "print(f\"\\nEdge list:\\n{edge_list}\")\n",
    "print(f\"\\nEdge feature list:\\n{edge_feature_list}\")"
   ]
  },
  {
   "cell_type": "markdown",
   "metadata": {},
   "source": [
    "To check that the code you wrote is working correctly I have written a function that goes the other way (i.e. from these arrays back to a SMILES string). Note that the function you wrote is not reversible for all molecules (e.g. in the graph arrays representation we ignore stereochemistry) but should work okay and act as a useful sanity check with paracetemol. To check your code run the cell below and check that the output is `True`:"
   ]
  },
  {
   "cell_type": "code",
   "execution_count": 18,
   "metadata": {},
   "outputs": [
    {
     "data": {
      "text/plain": [
       "True"
      ]
     },
     "execution_count": 18,
     "metadata": {},
     "output_type": "execute_result"
    }
   ],
   "source": [
    "sanity_check_passed = (Chem.MolToSmiles(paracetemol_mol, canonical=True) == \n",
    "                       ss_utils.graph_as_edge_list_to_canon_smiles(node_features, edge_list,\n",
    "                                                                   edge_feature_list, atm_featurizer))\n",
    "\n",
    "sanity_check_passed"
   ]
  },
  {
   "cell_type": "markdown",
   "metadata": {},
   "source": [
    "### 2.3 Summary and further reading\n",
    "\n",
    "This section described how we can represent molecules as fingerprints, SMILES strings and as node features/edge list arrays. In the section that follows we will train ML regressors on each of these representations.\n",
    "\n",
    "**RDKit** If you want to learn more about how to use RDKit, the RDKit [documentation](http://www.rdkit.org/docs/index.html) is great, in particular this [first rendered notebook](http://www.rdkit.org/docs/GettingStartedInPython.html) covers the majority of the stuff we have gone through here and far more! Also, whilst writing this notebook I spotted [this tweet](https://twitter.com/trjosephson/status/1296108489702424576?s=20), which has collected in its replies a collection of links to excellent resources. In particular, the (GitHub hosted) tutorials from [@PatWalters](https://github.com/PatWalters/workshop) and [@iwatobipen](https://github.com/iwatobipen/py4chemoinformatics) look amazing, and also cover regression on molecules which we shall investigate in the next section.\n",
    "\n",
    "We are using RDKit in this notebook as it has lots of well-documented features, works great with Python and is very popular for ML in Chemistry applications. I should also quickly point out that there are [other chemoinformatics toolkits out there](https://en.wikipedia.org/wiki/Cheminformatics_toolkits), which may be useful if you prefer working in other programming languages. Examples that I have used include the [Chemistry Development Kit](https://cdk.github.io/) in Java , the [Indigo Toolkit](https://lifescience.opensource.epam.com/indigo/) with a core written in C++ (with Python bindings), and [OpenBabel](https://github.com/openbabel/openbabel). \n",
    "\n",
    "**Fingerprints** Morgan fingerprints (or circular fingerprints (Rogers et al., 2010)) are not the only way to compute fingerprints for molecules. [RDKit](https://www.rdkit.org/docs/GettingStartedInPython.html#list-of-available-fingerprints) has a series of other fingerprinting methods implemented. Choosing fingerprints could be an dataset dependent decision, although Rinker and Landrum (2013) find that many popular fingerprints offer fairly similar performance in downstream tasks."
   ]
  },
  {
   "cell_type": "markdown",
   "metadata": {},
   "source": [
    "## 3 Molecule Regression\n",
    "\n",
    "In this section we will go through four main models for performing regression on molecules: a basic feedforward NN (neural network) on fingerprints, a RNN (recurrent neural network) on SMILES strings, a convolutional neural network on SMILES strings, and a GNN on the the molecular graph representation. Before starting on this we will introduce a simple solubility dataset to benchmark these models on. This dataset is taken from (Duvenaud et al, 2015, §4.2) [from their code repo](https://github.com/HIPS/neural-fingerprint/tree/master/data/2015-05-24-delaney)), which in turn originally obtained it from (Delaney, 2004).\n",
    "\n",
    "### 3.1 Solubility dataset\n",
    "\n",
    "We can load in the data using Pandas:\n"
   ]
  },
  {
   "cell_type": "code",
   "execution_count": 19,
   "metadata": {},
   "outputs": [
    {
     "data": {
      "text/html": [
       "<div>\n",
       "<style scoped>\n",
       "    .dataframe tbody tr th:only-of-type {\n",
       "        vertical-align: middle;\n",
       "    }\n",
       "\n",
       "    .dataframe tbody tr th {\n",
       "        vertical-align: top;\n",
       "    }\n",
       "\n",
       "    .dataframe thead th {\n",
       "        text-align: right;\n",
       "    }\n",
       "</style>\n",
       "<table border=\"1\" class=\"dataframe\">\n",
       "  <thead>\n",
       "    <tr style=\"text-align: right;\">\n",
       "      <th></th>\n",
       "      <th>Compound ID</th>\n",
       "      <th>ESOL predicted log solubility in mols per litre</th>\n",
       "      <th>Minimum Degree</th>\n",
       "      <th>Molecular Weight</th>\n",
       "      <th>Number of H-Bond Donors</th>\n",
       "      <th>Number of Rings</th>\n",
       "      <th>Number of Rotatable Bonds</th>\n",
       "      <th>Polar Surface Area</th>\n",
       "      <th>measured log solubility in mols per litre</th>\n",
       "      <th>smiles</th>\n",
       "    </tr>\n",
       "  </thead>\n",
       "  <tbody>\n",
       "    <tr>\n",
       "      <th>0</th>\n",
       "      <td>Amigdalin</td>\n",
       "      <td>-0.974</td>\n",
       "      <td>1</td>\n",
       "      <td>457.432</td>\n",
       "      <td>7</td>\n",
       "      <td>3</td>\n",
       "      <td>7</td>\n",
       "      <td>202.32</td>\n",
       "      <td>-0.77</td>\n",
       "      <td>OCC3OC(OCC2OC(OC(C#N)c1ccccc1)C(O)C(O)C2O)C(O)...</td>\n",
       "    </tr>\n",
       "    <tr>\n",
       "      <th>1</th>\n",
       "      <td>Fenfuram</td>\n",
       "      <td>-2.885</td>\n",
       "      <td>1</td>\n",
       "      <td>201.225</td>\n",
       "      <td>1</td>\n",
       "      <td>2</td>\n",
       "      <td>2</td>\n",
       "      <td>42.24</td>\n",
       "      <td>-3.30</td>\n",
       "      <td>Cc1occc1C(=O)Nc2ccccc2</td>\n",
       "    </tr>\n",
       "    <tr>\n",
       "      <th>2</th>\n",
       "      <td>citral</td>\n",
       "      <td>-2.579</td>\n",
       "      <td>1</td>\n",
       "      <td>152.237</td>\n",
       "      <td>0</td>\n",
       "      <td>0</td>\n",
       "      <td>4</td>\n",
       "      <td>17.07</td>\n",
       "      <td>-2.06</td>\n",
       "      <td>CC(C)=CCCC(C)=CC(=O)</td>\n",
       "    </tr>\n",
       "    <tr>\n",
       "      <th>3</th>\n",
       "      <td>Picene</td>\n",
       "      <td>-6.618</td>\n",
       "      <td>2</td>\n",
       "      <td>278.354</td>\n",
       "      <td>0</td>\n",
       "      <td>5</td>\n",
       "      <td>0</td>\n",
       "      <td>0.00</td>\n",
       "      <td>-7.87</td>\n",
       "      <td>c1ccc2c(c1)ccc3c2ccc4c5ccccc5ccc43</td>\n",
       "    </tr>\n",
       "    <tr>\n",
       "      <th>4</th>\n",
       "      <td>Thiophene</td>\n",
       "      <td>-2.232</td>\n",
       "      <td>2</td>\n",
       "      <td>84.143</td>\n",
       "      <td>0</td>\n",
       "      <td>1</td>\n",
       "      <td>0</td>\n",
       "      <td>0.00</td>\n",
       "      <td>-1.33</td>\n",
       "      <td>c1ccsc1</td>\n",
       "    </tr>\n",
       "  </tbody>\n",
       "</table>\n",
       "</div>"
      ],
      "text/plain": [
       "  Compound ID  ESOL predicted log solubility in mols per litre  \\\n",
       "0   Amigdalin                                           -0.974   \n",
       "1    Fenfuram                                           -2.885   \n",
       "2      citral                                           -2.579   \n",
       "3      Picene                                           -6.618   \n",
       "4   Thiophene                                           -2.232   \n",
       "\n",
       "   Minimum Degree  Molecular Weight  Number of H-Bond Donors  Number of Rings  \\\n",
       "0               1           457.432                        7                3   \n",
       "1               1           201.225                        1                2   \n",
       "2               1           152.237                        0                0   \n",
       "3               2           278.354                        0                5   \n",
       "4               2            84.143                        0                1   \n",
       "\n",
       "   Number of Rotatable Bonds  Polar Surface Area  \\\n",
       "0                          7              202.32   \n",
       "1                          2               42.24   \n",
       "2                          4               17.07   \n",
       "3                          0                0.00   \n",
       "4                          0                0.00   \n",
       "\n",
       "   measured log solubility in mols per litre  \\\n",
       "0                                      -0.77   \n",
       "1                                      -3.30   \n",
       "2                                      -2.06   \n",
       "3                                      -7.87   \n",
       "4                                      -1.33   \n",
       "\n",
       "                                              smiles  \n",
       "0  OCC3OC(OCC2OC(OC(C#N)c1ccccc1)C(O)C(O)C2O)C(O)...  \n",
       "1                             Cc1occc1C(=O)Nc2ccccc2  \n",
       "2                               CC(C)=CCCC(C)=CC(=O)  \n",
       "3                 c1ccc2c(c1)ccc3c2ccc4c5ccccc5ccc43  \n",
       "4                                            c1ccsc1  "
      ]
     },
     "execution_count": 19,
     "metadata": {},
     "output_type": "execute_result"
    }
   ],
   "source": [
    "df = pd.read_csv('data/delaney-processed.csv')\n",
    "df.head()"
   ]
  },
  {
   "cell_type": "code",
   "execution_count": 20,
   "metadata": {},
   "outputs": [
    {
     "data": {
      "text/html": [
       "<div>\n",
       "<style scoped>\n",
       "    .dataframe tbody tr th:only-of-type {\n",
       "        vertical-align: middle;\n",
       "    }\n",
       "\n",
       "    .dataframe tbody tr th {\n",
       "        vertical-align: top;\n",
       "    }\n",
       "\n",
       "    .dataframe thead th {\n",
       "        text-align: right;\n",
       "    }\n",
       "</style>\n",
       "<table border=\"1\" class=\"dataframe\">\n",
       "  <thead>\n",
       "    <tr style=\"text-align: right;\">\n",
       "      <th></th>\n",
       "      <th>ESOL predicted log solubility in mols per litre</th>\n",
       "      <th>Minimum Degree</th>\n",
       "      <th>Molecular Weight</th>\n",
       "      <th>Number of H-Bond Donors</th>\n",
       "      <th>Number of Rings</th>\n",
       "      <th>Number of Rotatable Bonds</th>\n",
       "      <th>Polar Surface Area</th>\n",
       "      <th>measured log solubility in mols per litre</th>\n",
       "    </tr>\n",
       "  </thead>\n",
       "  <tbody>\n",
       "    <tr>\n",
       "      <th>count</th>\n",
       "      <td>1128.000000</td>\n",
       "      <td>1128.000000</td>\n",
       "      <td>1128.000000</td>\n",
       "      <td>1128.000000</td>\n",
       "      <td>1128.000000</td>\n",
       "      <td>1128.000000</td>\n",
       "      <td>1128.000000</td>\n",
       "      <td>1128.000000</td>\n",
       "    </tr>\n",
       "    <tr>\n",
       "      <th>mean</th>\n",
       "      <td>-2.988192</td>\n",
       "      <td>1.058511</td>\n",
       "      <td>203.937074</td>\n",
       "      <td>0.701241</td>\n",
       "      <td>1.390957</td>\n",
       "      <td>2.177305</td>\n",
       "      <td>34.872881</td>\n",
       "      <td>-3.050102</td>\n",
       "    </tr>\n",
       "    <tr>\n",
       "      <th>std</th>\n",
       "      <td>1.683220</td>\n",
       "      <td>0.238560</td>\n",
       "      <td>102.738077</td>\n",
       "      <td>1.089727</td>\n",
       "      <td>1.318286</td>\n",
       "      <td>2.640974</td>\n",
       "      <td>35.383593</td>\n",
       "      <td>2.096441</td>\n",
       "    </tr>\n",
       "    <tr>\n",
       "      <th>min</th>\n",
       "      <td>-9.702000</td>\n",
       "      <td>0.000000</td>\n",
       "      <td>16.043000</td>\n",
       "      <td>0.000000</td>\n",
       "      <td>0.000000</td>\n",
       "      <td>0.000000</td>\n",
       "      <td>0.000000</td>\n",
       "      <td>-11.600000</td>\n",
       "    </tr>\n",
       "    <tr>\n",
       "      <th>25%</th>\n",
       "      <td>-3.948250</td>\n",
       "      <td>1.000000</td>\n",
       "      <td>121.183000</td>\n",
       "      <td>0.000000</td>\n",
       "      <td>0.000000</td>\n",
       "      <td>0.000000</td>\n",
       "      <td>0.000000</td>\n",
       "      <td>-4.317500</td>\n",
       "    </tr>\n",
       "    <tr>\n",
       "      <th>50%</th>\n",
       "      <td>-2.870000</td>\n",
       "      <td>1.000000</td>\n",
       "      <td>182.179000</td>\n",
       "      <td>0.000000</td>\n",
       "      <td>1.000000</td>\n",
       "      <td>1.000000</td>\n",
       "      <td>26.300000</td>\n",
       "      <td>-2.860000</td>\n",
       "    </tr>\n",
       "    <tr>\n",
       "      <th>75%</th>\n",
       "      <td>-1.843750</td>\n",
       "      <td>1.000000</td>\n",
       "      <td>270.372000</td>\n",
       "      <td>1.000000</td>\n",
       "      <td>2.000000</td>\n",
       "      <td>3.000000</td>\n",
       "      <td>55.440000</td>\n",
       "      <td>-1.600000</td>\n",
       "    </tr>\n",
       "    <tr>\n",
       "      <th>max</th>\n",
       "      <td>1.091000</td>\n",
       "      <td>2.000000</td>\n",
       "      <td>780.949000</td>\n",
       "      <td>11.000000</td>\n",
       "      <td>8.000000</td>\n",
       "      <td>23.000000</td>\n",
       "      <td>268.680000</td>\n",
       "      <td>1.580000</td>\n",
       "    </tr>\n",
       "  </tbody>\n",
       "</table>\n",
       "</div>"
      ],
      "text/plain": [
       "       ESOL predicted log solubility in mols per litre  Minimum Degree  \\\n",
       "count                                      1128.000000     1128.000000   \n",
       "mean                                         -2.988192        1.058511   \n",
       "std                                           1.683220        0.238560   \n",
       "min                                          -9.702000        0.000000   \n",
       "25%                                          -3.948250        1.000000   \n",
       "50%                                          -2.870000        1.000000   \n",
       "75%                                          -1.843750        1.000000   \n",
       "max                                           1.091000        2.000000   \n",
       "\n",
       "       Molecular Weight  Number of H-Bond Donors  Number of Rings  \\\n",
       "count       1128.000000              1128.000000      1128.000000   \n",
       "mean         203.937074                 0.701241         1.390957   \n",
       "std          102.738077                 1.089727         1.318286   \n",
       "min           16.043000                 0.000000         0.000000   \n",
       "25%          121.183000                 0.000000         0.000000   \n",
       "50%          182.179000                 0.000000         1.000000   \n",
       "75%          270.372000                 1.000000         2.000000   \n",
       "max          780.949000                11.000000         8.000000   \n",
       "\n",
       "       Number of Rotatable Bonds  Polar Surface Area  \\\n",
       "count                1128.000000         1128.000000   \n",
       "mean                    2.177305           34.872881   \n",
       "std                     2.640974           35.383593   \n",
       "min                     0.000000            0.000000   \n",
       "25%                     0.000000            0.000000   \n",
       "50%                     1.000000           26.300000   \n",
       "75%                     3.000000           55.440000   \n",
       "max                    23.000000          268.680000   \n",
       "\n",
       "       measured log solubility in mols per litre  \n",
       "count                                1128.000000  \n",
       "mean                                   -3.050102  \n",
       "std                                     2.096441  \n",
       "min                                   -11.600000  \n",
       "25%                                    -4.317500  \n",
       "50%                                    -2.860000  \n",
       "75%                                    -1.600000  \n",
       "max                                     1.580000  "
      ]
     },
     "execution_count": 20,
     "metadata": {},
     "output_type": "execute_result"
    }
   ],
   "source": [
    "# We can also use Pandas to quickly summarize the data:\n",
    "df.describe()"
   ]
  },
  {
   "cell_type": "markdown",
   "metadata": {},
   "source": [
    "The variable which we want to predict is in the \"measured log solubility in mols per litre\" column\n",
    "\n",
    "🧪   **Task 3:** Plot a histogram of these measured log solubility values.\n"
   ]
  },
  {
   "cell_type": "code",
   "execution_count": 21,
   "metadata": {},
   "outputs": [
    {
     "data": {
      "text/plain": [
       "<AxesSubplot:>"
      ]
     },
     "execution_count": 21,
     "metadata": {},
     "output_type": "execute_result"
    },
    {
     "data": {
      "image/png": "[encoded data removed]",
      "text/plain": [
       "<Figure size 432x288 with 1 Axes>"
      ]
     },
     "metadata": {
      "needs_background": "light"
     },
     "output_type": "display_data"
    }
   ],
   "source": [
    "df['measured log solubility in mols per litre'].hist()"
   ]
  },
  {
   "cell_type": "markdown",
   "metadata": {},
   "source": [
    "Note that RDKit includes a series of useful tools for working with Pandas, which are [documented here](http://rdkit.org/docs/source/rdkit.Chem.PandasTools.html). For instance, we can include the relevant molecule in each row of the dataframe:"
   ]
  },
  {
   "cell_type": "code",
   "execution_count": 22,
   "metadata": {},
   "outputs": [
    {
     "data": {
      "text/html": [
       "<div>\n",
       "<style scoped>\n",
       "    .dataframe tbody tr th:only-of-type {\n",
       "        vertical-align: middle;\n",
       "    }\n",
       "\n",
       "    .dataframe tbody tr th {\n",
       "        vertical-align: top;\n",
       "    }\n",
       "\n",
       "    .dataframe thead th {\n",
       "        text-align: right;\n",
       "    }\n",
       "</style>\n",
       "<table border=\"1\" class=\"dataframe\">\n",
       "  <thead>\n",
       "    <tr style=\"text-align: right;\">\n",
       "      <th></th>\n",
       "      <th>Compound ID</th>\n",
       "      <th>ESOL predicted log solubility in mols per litre</th>\n",
       "      <th>Minimum Degree</th>\n",
       "      <th>Molecular Weight</th>\n",
       "      <th>Number of H-Bond Donors</th>\n",
       "      <th>Number of Rings</th>\n",
       "      <th>Number of Rotatable Bonds</th>\n",
       "      <th>Polar Surface Area</th>\n",
       "      <th>measured log solubility in mols per litre</th>\n",
       "      <th>smiles</th>\n",
       "      <th>Molecule</th>\n",
       "    </tr>\n",
       "  </thead>\n",
       "  <tbody>\n",
       "    <tr>\n",
       "      <th>0</th>\n",
       "      <td>Amigdalin</td>\n",
       "      <td>-0.974</td>\n",
       "      <td>1</td>\n",
       "      <td>457.432</td>\n",
       "      <td>7</td>\n",
       "      <td>3</td>\n",
       "      <td>7</td>\n",
       "      <td>202.32</td>\n",
       "      <td>-0.77</td>\n",
       "      <td>OCC3OC(OCC2OC(OC(C#N)c1ccccc1)C(O)C(O)C2O)C(O)...</td>\n",
       "      <td><img data-content=\"rdkit/molecule\" src=\"data:image/png;base64,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\" alt=\"Mol\"/></td>\n",
       "    </tr>\n",
       "    <tr>\n",
       "      <th>1</th>\n",
       "      <td>Fenfuram</td>\n",
       "      <td>-2.885</td>\n",
       "      <td>1</td>\n",
       "      <td>201.225</td>\n",
       "      <td>1</td>\n",
       "      <td>2</td>\n",
       "      <td>2</td>\n",
       "      <td>42.24</td>\n",
       "      <td>-3.30</td>\n",
       "      <td>Cc1occc1C(=O)Nc2ccccc2</td>\n",
       "      <td><img data-content=\"rdkit/molecule\" src=\"data:image/png;base64,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\" alt=\"Mol\"/></td>\n",
       "    </tr>\n",
       "    <tr>\n",
       "      <th>2</th>\n",
       "      <td>citral</td>\n",
       "      <td>-2.579</td>\n",
       "      <td>1</td>\n",
       "      <td>152.237</td>\n",
       "      <td>0</td>\n",
       "      <td>0</td>\n",
       "      <td>4</td>\n",
       "      <td>17.07</td>\n",
       "      <td>-2.06</td>\n",
       "      <td>CC(C)=CCCC(C)=CC(=O)</td>\n",
       "      <td><img data-content=\"rdkit/molecule\" src=\"data:image/png;base64,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\" alt=\"Mol\"/></td>\n",
       "    </tr>\n",
       "    <tr>\n",
       "      <th>3</th>\n",
       "      <td>Picene</td>\n",
       "      <td>-6.618</td>\n",
       "      <td>2</td>\n",
       "      <td>278.354</td>\n",
       "      <td>0</td>\n",
       "      <td>5</td>\n",
       "      <td>0</td>\n",
       "      <td>0.00</td>\n",
       "      <td>-7.87</td>\n",
       "      <td>c1ccc2c(c1)ccc3c2ccc4c5ccccc5ccc43</td>\n",
       "      <td><img data-content=\"rdkit/molecule\" src=\"data:image/png;base64,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\" alt=\"Mol\"/></td>\n",
       "    </tr>\n",
       "    <tr>\n",
       "      <th>4</th>\n",
       "      <td>Thiophene</td>\n",
       "      <td>-2.232</td>\n",
       "      <td>2</td>\n",
       "      <td>84.143</td>\n",
       "      <td>0</td>\n",
       "      <td>1</td>\n",
       "      <td>0</td>\n",
       "      <td>0.00</td>\n",
       "      <td>-1.33</td>\n",
       "      <td>c1ccsc1</td>\n",
       "      <td><img data-content=\"rdkit/molecule\" src=\"data:image/png;base64,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\" alt=\"Mol\"/></td>\n",
       "    </tr>\n",
       "  </tbody>\n",
       "</table>\n",
       "</div>"
      ],
      "text/plain": [
       "  Compound ID  ESOL predicted log solubility in mols per litre  \\\n",
       "0   Amigdalin                                           -0.974   \n",
       "1    Fenfuram                                           -2.885   \n",
       "2      citral                                           -2.579   \n",
       "3      Picene                                           -6.618   \n",
       "4   Thiophene                                           -2.232   \n",
       "\n",
       "   Minimum Degree  Molecular Weight  Number of H-Bond Donors  Number of Rings  \\\n",
       "0               1           457.432                        7                3   \n",
       "1               1           201.225                        1                2   \n",
       "2               1           152.237                        0                0   \n",
       "3               2           278.354                        0                5   \n",
       "4               2            84.143                        0                1   \n",
       "\n",
       "   Number of Rotatable Bonds  Polar Surface Area  \\\n",
       "0                          7              202.32   \n",
       "1                          2               42.24   \n",
       "2                          4               17.07   \n",
       "3                          0                0.00   \n",
       "4                          0                0.00   \n",
       "\n",
       "   measured log solubility in mols per litre  \\\n",
       "0                                      -0.77   \n",
       "1                                      -3.30   \n",
       "2                                      -2.06   \n",
       "3                                      -7.87   \n",
       "4                                      -1.33   \n",
       "\n",
       "                                              smiles  \\\n",
       "0  OCC3OC(OCC2OC(OC(C#N)c1ccccc1)C(O)C(O)C2O)C(O)...   \n",
       "1                             Cc1occc1C(=O)Nc2ccccc2   \n",
       "2                               CC(C)=CCCC(C)=CC(=O)   \n",
       "3                 c1ccc2c(c1)ccc3c2ccc4c5ccccc5ccc43   \n",
       "4                                            c1ccsc1   \n",
       "\n",
       "                                            Molecule  \n",
       "0  <img data-content=\"rdkit/molecule\" src=\"data:i...  \n",
       "1  <img data-content=\"rdkit/molecule\" src=\"data:i...  \n",
       "2  <img data-content=\"rdkit/molecule\" src=\"data:i...  \n",
       "3  <img data-content=\"rdkit/molecule\" src=\"data:i...  \n",
       "4  <img data-content=\"rdkit/molecule\" src=\"data:i...  "
      ]
     },
     "execution_count": 22,
     "metadata": {},
     "output_type": "execute_result"
    }
   ],
   "source": [
    "PandasTools.AddMoleculeColumnToFrame(df,'smiles','Molecule',includeFingerprints=False)\n",
    "df.head()"
   ]
  },
  {
   "cell_type": "markdown",
   "metadata": {},
   "source": [
    "Before moving on, we'll split this dataframe into train and validation dataframes:"
   ]
  },
  {
   "cell_type": "code",
   "execution_count": 23,
   "metadata": {},
   "outputs": [
    {
     "name": "stdout",
     "output_type": "stream",
     "text": [
      "Shapes are:  (1016, 11) (112, 11)\n"
     ]
    }
   ],
   "source": [
    "def split_into_train_and_val_dfs(df: pd.DataFrame, train_proportion:float,\n",
    "                                 rng: typing.Optional[np.random.RandomState]=None\n",
    "                                ) -> typing.Tuple[pd.DataFrame, pd.DataFrame]:\n",
    "    \"\"\"\n",
    "    splits this dataset into two: a training portion and a validation\n",
    "    portion. \n",
    "\n",
    "    :param df: Pandas Dataframe to split up.\n",
    "    :param train_proportion: proportion to use as training dataset\n",
    "    \"\"\"\n",
    "    # If not passed in a random number generator create one here\n",
    "    rng = np.random.RandomState(42) if rng is None else rng\n",
    "\n",
    "    # Convert the proportion into a dataset size\n",
    "    assert 0. <= train_proportion <= 1.\n",
    "    number_for_training = int(np.ceil(train_proportion * df.shape[0]))\n",
    "\n",
    "    # Create a random shuffling of the data\n",
    "    perm = rng.permutation(df.shape[0])\n",
    "    \n",
    "    # split up into the appropriate sizes\n",
    "    train_df = df.iloc[perm[:number_for_training]].copy()\n",
    "    val_df = df.iloc[perm[number_for_training:]].copy()\n",
    "\n",
    "    return train_df, val_df\n",
    "\n",
    "train_df, val_df = split_into_train_and_val_dfs(df, 0.9)\n",
    "print(\"Shapes are: \", train_df.shape, val_df.shape)"
   ]
  },
  {
   "cell_type": "markdown",
   "metadata": {},
   "source": [
    "### 3.2 Training a NN on fingerprints\n",
    "\n",
    "Having set up our dataset we are now ready to create our first model! We first will train a regular feed forward NN on the fingerprints. I have written in the `ss_utils` module the training code for you, as the function `train_neural_network`. I highly encourage you to read over this function to see what is happening. As well as the data to train/validate on, this function requires the network to train as well as a function that converts SMILES strings into the required tensor to put into the network.\n",
    "\n",
    "\n",
    "🧪   **Task 4:** Code up a 2-layer Pytorch NN that operates on 1024 dimensional fingerprint features and predicts the solubility. If you haven't used PyTorch before then you may find the [following documentation helpful](https://pytorch.org/tutorials/beginner/blitz/neural_networks_tutorial.html). This neural network should be a subclass of `nn.Module`. You can pick whatever hidden dimensionality/hidden activation function you like.\n",
    "\n",
    "<img src=\"https://raw.githubusercontent.com/john-bradshaw/ml-in-bioinformatics-summer-school-2020/master/imgs/nn_fingerprint.svg\" width=\"800px\" />\n",
    "\n",
    "\n",
    "\n"
   ]
  },
  {
   "cell_type": "code",
   "execution_count": 24,
   "metadata": {},
   "outputs": [],
   "source": [
    "# Write a simple (1-hidden layer NN) in PyTorch\n",
    "ff_nn: nn.Module = nn.Sequential(nn.Linear(1024, 128), nn.ReLU(), nn.Linear(128, 1))\n",
    "\n",
    "\n",
    "# We also will need to add a transform for our datasets such that\n",
    "# the network gets fed in fingerprint tensors rather than SMILES strings\n",
    "def transform_ff_nn(smiles: str) -> torch.Tensor:\n",
    "    fp = morgan_fp_from_smiles(smiles)\n",
    "    tensor_fp = torch.tensor(fp, dtype=torch.float32)\n",
    "    return tensor_fp\n"
   ]
  },
  {
   "cell_type": "markdown",
   "metadata": {},
   "source": [
    "Having defined the network we can now train it:"
   ]
  },
  {
   "cell_type": "code",
   "execution_count": 25,
   "metadata": {
    "scrolled": false
   },
   "outputs": [
    {
     "name": "stdout",
     "output_type": "stream",
     "text": [
      "Train dataset is of size 1016 and valid of size 112\n",
      "Epoch - 0\n",
      "Training Results - Epoch: 0  Avg loss: 13.18\n",
      "Validation Results - Epoch: 0 Avg loss: 11.13\n"
     ]
    },
    {
     "data": {
      "application/vnd.jupyter.widget-view+json": {
       "model_id": "",
       "version_major": 2,
       "version_minor": 0
      },
      "text/plain": [
       "HBox(children=(FloatProgress(value=0.0, max=16.0), HTML(value='')))"
      ]
     },
     "metadata": {},
     "output_type": "display_data"
    },
    {
     "name": "stdout",
     "output_type": "stream",
     "text": [
      "\n",
      "Epoch - 1\n",
      "Training Results - Epoch: 1  Avg loss: 6.36\n",
      "Validation Results - Epoch: 1 Avg loss: 5.75\n"
     ]
    },
    {
     "data": {
      "application/vnd.jupyter.widget-view+json": {
       "model_id": "",
       "version_major": 2,
       "version_minor": 0
      },
      "text/plain": [
       "HBox(children=(FloatProgress(value=0.0, max=16.0), HTML(value='')))"
      ]
     },
     "metadata": {},
     "output_type": "display_data"
    },
    {
     "name": "stdout",
     "output_type": "stream",
     "text": [
      "\n",
      "Epoch - 2\n",
      "Training Results - Epoch: 2  Avg loss: 3.80\n",
      "Validation Results - Epoch: 2 Avg loss: 4.03\n"
     ]
    },
    {
     "data": {
      "application/vnd.jupyter.widget-view+json": {
       "model_id": "",
       "version_major": 2,
       "version_minor": 0
      },
      "text/plain": [
       "HBox(children=(FloatProgress(value=0.0, max=16.0), HTML(value='')))"
      ]
     },
     "metadata": {},
     "output_type": "display_data"
    },
    {
     "name": "stdout",
     "output_type": "stream",
     "text": [
      "\n",
      "Epoch - 3\n",
      "Training Results - Epoch: 3  Avg loss: 2.77\n",
      "Validation Results - Epoch: 3 Avg loss: 3.17\n"
     ]
    },
    {
     "data": {
      "application/vnd.jupyter.widget-view+json": {
       "model_id": "",
       "version_major": 2,
       "version_minor": 0
      },
      "text/plain": [
       "HBox(children=(FloatProgress(value=0.0, max=16.0), HTML(value='')))"
      ]
     },
     "metadata": {},
     "output_type": "display_data"
    },
    {
     "name": "stdout",
     "output_type": "stream",
     "text": [
      "\n",
      "Epoch - 4\n",
      "Training Results - Epoch: 4  Avg loss: 2.12\n",
      "Validation Results - Epoch: 4 Avg loss: 2.62\n"
     ]
    },
    {
     "data": {
      "application/vnd.jupyter.widget-view+json": {
       "model_id": "",
       "version_major": 2,
       "version_minor": 0
      },
      "text/plain": [
       "HBox(children=(FloatProgress(value=0.0, max=16.0), HTML(value='')))"
      ]
     },
     "metadata": {},
     "output_type": "display_data"
    },
    {
     "name": "stdout",
     "output_type": "stream",
     "text": [
      "\n",
      "Epoch - 5\n",
      "Training Results - Epoch: 5  Avg loss: 1.67\n",
      "Validation Results - Epoch: 5 Avg loss: 2.34\n"
     ]
    },
    {
     "data": {
      "application/vnd.jupyter.widget-view+json": {
       "model_id": "",
       "version_major": 2,
       "version_minor": 0
      },
      "text/plain": [
       "HBox(children=(FloatProgress(value=0.0, max=16.0), HTML(value='')))"
      ]
     },
     "metadata": {},
     "output_type": "display_data"
    },
    {
     "name": "stdout",
     "output_type": "stream",
     "text": [
      "\n",
      "Epoch - 6\n",
      "Training Results - Epoch: 6  Avg loss: 1.41\n",
      "Validation Results - Epoch: 6 Avg loss: 2.12\n"
     ]
    },
    {
     "data": {
      "application/vnd.jupyter.widget-view+json": {
       "model_id": "",
       "version_major": 2,
       "version_minor": 0
      },
      "text/plain": [
       "HBox(children=(FloatProgress(value=0.0, max=16.0), HTML(value='')))"
      ]
     },
     "metadata": {},
     "output_type": "display_data"
    },
    {
     "name": "stdout",
     "output_type": "stream",
     "text": [
      "\n",
      "Epoch - 7\n",
      "Training Results - Epoch: 7  Avg loss: 1.24\n",
      "Validation Results - Epoch: 7 Avg loss: 2.04\n"
     ]
    },
    {
     "data": {
      "application/vnd.jupyter.widget-view+json": {
       "model_id": "",
       "version_major": 2,
       "version_minor": 0
      },
      "text/plain": [
       "HBox(children=(FloatProgress(value=0.0, max=16.0), HTML(value='')))"
      ]
     },
     "metadata": {},
     "output_type": "display_data"
    },
    {
     "name": "stdout",
     "output_type": "stream",
     "text": [
      "\n",
      "Epoch - 8\n",
      "Training Results - Epoch: 8  Avg loss: 1.11\n",
      "Validation Results - Epoch: 8 Avg loss: 1.99\n"
     ]
    },
    {
     "data": {
      "application/vnd.jupyter.widget-view+json": {
       "model_id": "",
       "version_major": 2,
       "version_minor": 0
      },
      "text/plain": [
       "HBox(children=(FloatProgress(value=0.0, max=16.0), HTML(value='')))"
      ]
     },
     "metadata": {},
     "output_type": "display_data"
    },
    {
     "name": "stdout",
     "output_type": "stream",
     "text": [
      "\n",
      "Epoch - 9\n",
      "Training Results - Epoch: 9  Avg loss: 1.01\n",
      "Validation Results - Epoch: 9 Avg loss: 1.98\n"
     ]
    },
    {
     "data": {
      "application/vnd.jupyter.widget-view+json": {
       "model_id": "",
       "version_major": 2,
       "version_minor": 0
      },
      "text/plain": [
       "HBox(children=(FloatProgress(value=0.0, max=16.0), HTML(value='')))"
      ]
     },
     "metadata": {},
     "output_type": "display_data"
    },
    {
     "name": "stdout",
     "output_type": "stream",
     "text": [
      "\n",
      "Epoch - 10\n",
      "Training Results - Epoch: 10  Avg loss: 0.92\n",
      "Validation Results - Epoch: 10 Avg loss: 1.96\n"
     ]
    },
    {
     "data": {
      "text/html": [
       "<table>\n",
       "<tbody>\n",
       "<tr><td>Num params             </td><td style=\"text-align: right;\">131000    </td></tr>\n",
       "<tr><td>Minimum train loss     </td><td style=\"text-align: right;\">     0.923</td></tr>\n",
       "<tr><td>Mean validation time   </td><td style=\"text-align: right;\">     0.571</td></tr>\n",
       "<tr><td>Minimum validation loss</td><td style=\"text-align: right;\">     1.963</td></tr>\n",
       "</tbody>\n",
       "</table>"
      ],
      "text/plain": [
       "<IPython.core.display.HTML object>"
      ]
     },
     "metadata": {},
     "output_type": "display_data"
    }
   ],
   "source": [
    "# A quick check that the ff_nn has been subclassed from nn.Module correctly\n",
    "assert isinstance(ff_nn, nn.Module), \"The function you have written should be a subclass of nn.Module\"\n",
    "\n",
    "# Then we train and evaluate\n",
    "out = ss_utils.train_neural_network(train_df, val_df, \"smiles\",\n",
    "                                    \"measured log solubility in mols per litre\", transform_ff_nn, ff_nn)\n",
    "\n",
    "# Finally we print out as a table some of the results.\n",
    "display(HTML(tabulate.tabulate(out['out_table'], tablefmt=\"html\")))"
   ]
  },
  {
   "cell_type": "markdown",
   "metadata": {},
   "source": [
    "We can  plot these training and validation losses to better understand how training went (if the network has not converged feel free to run training for longer):"
   ]
  },
  {
   "cell_type": "code",
   "execution_count": 26,
   "metadata": {
    "scrolled": false
   },
   "outputs": [
    {
     "data": {
      "text/html": [
       "\n",
       "<div id=\"altair-viz-a539a3bc04b74c55be1606c0fae24ed4\"></div>\n",
       "<script type=\"text/javascript\">\n",
       "  (function(spec, embedOpt){\n",
       "    let outputDiv = document.currentScript.previousElementSibling;\n",
       "    if (outputDiv.id !== \"altair-viz-a539a3bc04b74c55be1606c0fae24ed4\") {\n",
       "      outputDiv = document.getElementById(\"altair-viz-a539a3bc04b74c55be1606c0fae24ed4\");\n",
       "    }\n",
       "    const paths = {\n",
       "      \"vega\": \"https://cdn.jsdelivr.net/npm//vega@5?noext\",\n",
       "      \"vega-lib\": \"https://cdn.jsdelivr.net/npm//vega-lib?noext\",\n",
       "      \"vega-lite\": \"https://cdn.jsdelivr.net/npm//vega-lite@4.8.1?noext\",\n",
       "      \"vega-embed\": \"https://cdn.jsdelivr.net/npm//vega-embed@6?noext\",\n",
       "    };\n",
       "\n",
       "    function loadScript(lib) {\n",
       "      return new Promise(function(resolve, reject) {\n",
       "        var s = document.createElement('script');\n",
       "        s.src = paths[lib];\n",
       "        s.async = true;\n",
       "        s.onload = () => resolve(paths[lib]);\n",
       "        s.onerror = () => reject(`Error loading script: ${paths[lib]}`);\n",
       "        document.getElementsByTagName(\"head\")[0].appendChild(s);\n",
       "      });\n",
       "    }\n",
       "\n",
       "    function showError(err) {\n",
       "      outputDiv.innerHTML = `<div class=\"error\" style=\"color:red;\">${err}</div>`;\n",
       "      throw err;\n",
       "    }\n",
       "\n",
       "    function displayChart(vegaEmbed) {\n",
       "      vegaEmbed(outputDiv, spec, embedOpt)\n",
       "        .catch(err => showError(`Javascript Error: ${err.message}<br>This usually means there's a typo in your chart specification. See the javascript console for the full traceback.`));\n",
       "    }\n",
       "\n",
       "    if(typeof define === \"function\" && define.amd) {\n",
       "      requirejs.config({paths});\n",
       "      require([\"vega-embed\"], displayChart, err => showError(`Error loading script: ${err.message}`));\n",
       "    } else if (typeof vegaEmbed === \"function\") {\n",
       "      displayChart(vegaEmbed);\n",
       "    } else {\n",
       "      loadScript(\"vega\")\n",
       "        .then(() => loadScript(\"vega-lite\"))\n",
       "        .then(() => loadScript(\"vega-embed\"))\n",
       "        .catch(showError)\n",
       "        .then(() => displayChart(vegaEmbed));\n",
       "    }\n",
       "  })({\"config\": {\"view\": {\"continuousWidth\": 400, \"continuousHeight\": 300}}, \"layer\": [{\"mark\": {\"type\": \"line\", \"interpolate\": \"basis\"}, \"encoding\": {\"color\": {\"type\": \"nominal\", \"field\": \"category\"}, \"x\": {\"type\": \"quantitative\", \"field\": \"epoch\"}, \"y\": {\"type\": \"quantitative\", \"field\": \"loss\"}}}, {\"mark\": \"point\", \"encoding\": {\"opacity\": {\"value\": 0}, \"x\": {\"type\": \"quantitative\", \"field\": \"epoch\"}}, \"selection\": {\"selector001\": {\"type\": \"single\", \"nearest\": true, \"on\": \"mouseover\", \"fields\": [\"epoch\"], \"empty\": \"none\"}}}, {\"mark\": \"point\", \"encoding\": {\"color\": {\"type\": \"nominal\", \"field\": \"category\"}, \"opacity\": {\"condition\": {\"value\": 1, \"selection\": \"selector001\"}, \"value\": 0}, \"x\": {\"type\": \"quantitative\", \"field\": \"epoch\"}, \"y\": {\"type\": \"quantitative\", \"field\": \"loss\"}}}, {\"mark\": {\"type\": \"rule\", \"color\": \"gray\"}, \"encoding\": {\"x\": {\"type\": \"quantitative\", \"field\": \"epoch\"}}, \"transform\": [{\"filter\": {\"selection\": \"selector001\"}}]}, {\"mark\": {\"type\": \"text\", \"align\": \"left\", \"dx\": 5, \"dy\": -5}, \"encoding\": {\"color\": {\"type\": \"nominal\", \"field\": \"category\"}, \"text\": {\"condition\": {\"type\": \"quantitative\", \"field\": \"loss\", \"selection\": \"selector001\"}, \"value\": \" \"}, \"x\": {\"type\": \"quantitative\", \"field\": \"epoch\"}, \"y\": {\"type\": \"quantitative\", \"field\": \"loss\"}}}], \"data\": {\"name\": \"data-0db80d9dd3e12cab11496fc55ef4bf14\"}, \"height\": 300, \"width\": 600, \"$schema\": \"https://vega.github.io/schema/vega-lite/v4.8.1.json\", \"datasets\": {\"data-0db80d9dd3e12cab11496fc55ef4bf14\": [{\"epoch\": 0, \"category\": \"train_loss\", \"loss\": 13.175729819170133}, {\"epoch\": 1, \"category\": \"train_loss\", \"loss\": 6.357855515217218}, {\"epoch\": 2, \"category\": \"train_loss\", \"loss\": 3.8037237370108055}, {\"epoch\": 3, \"category\": \"train_loss\", \"loss\": 2.774244498080156}, {\"epoch\": 4, \"category\": \"train_loss\", \"loss\": 2.1193925480204303}, {\"epoch\": 5, \"category\": \"train_loss\", \"loss\": 1.6745721890231755}, {\"epoch\": 6, \"category\": \"train_loss\", \"loss\": 1.4111983165966244}, {\"epoch\": 7, \"category\": \"train_loss\", \"loss\": 1.2355361134987177}, {\"epoch\": 8, \"category\": \"train_loss\", \"loss\": 1.1110632194308785}, {\"epoch\": 9, \"category\": \"train_loss\", \"loss\": 1.0083655644589522}, {\"epoch\": 10, \"category\": \"train_loss\", \"loss\": 0.9227098132681659}, {\"epoch\": 0, \"category\": \"val_loss\", \"loss\": 11.12749685559954}, {\"epoch\": 1, \"category\": \"val_loss\", \"loss\": 5.745090007781982}, {\"epoch\": 2, \"category\": \"val_loss\", \"loss\": 4.032435485294887}, {\"epoch\": 3, \"category\": \"val_loss\", \"loss\": 3.1675708975110735}, {\"epoch\": 4, \"category\": \"val_loss\", \"loss\": 2.61805864742824}, {\"epoch\": 5, \"category\": \"val_loss\", \"loss\": 2.3370669228690013}, {\"epoch\": 6, \"category\": \"val_loss\", \"loss\": 2.1221326078687395}, {\"epoch\": 7, \"category\": \"val_loss\", \"loss\": 2.03746383530753}, {\"epoch\": 8, \"category\": \"val_loss\", \"loss\": 1.989694322858538}, {\"epoch\": 9, \"category\": \"val_loss\", \"loss\": 1.975994280406407}, {\"epoch\": 10, \"category\": \"val_loss\", \"loss\": 1.9634170191628593}]}}, {\"mode\": \"vega-lite\"});\n",
       "</script>"
      ],
      "text/plain": [
       "alt.LayerChart(...)"
      ]
     },
     "execution_count": 26,
     "metadata": {},
     "output_type": "execute_result"
    },
    {
     "data": {
      "image/png": "[encoded data removed]",
      "text/plain": [
       "<Figure size 432x288 with 1 Axes>"
      ]
     },
     "metadata": {
      "needs_background": "light"
     },
     "output_type": "display_data"
    }
   ],
   "source": [
    "# We'll plot using Matplotlib and Altair.\n",
    "# Altair is interactive which is nice, although I think matplotlib makes better static images when saving\n",
    "# this notebook to GitHub.\n",
    "ss_utils.plot_train_and_val_using_mpl(out['train_loss_list'], out['val_lost_list'])\n",
    "\n",
    "ss_utils.plot_train_and_val_using_altair(out['train_loss_list'], out['val_lost_list'])\n"
   ]
  },
  {
   "cell_type": "markdown",
   "metadata": {},
   "source": [
    "We can also add our predictions to the dataframe such that we can compare them more easily with the ground truth:"
   ]
  },
  {
   "cell_type": "code",
   "execution_count": 27,
   "metadata": {},
   "outputs": [
    {
     "data": {
      "text/html": [
       "<div>\n",
       "<style scoped>\n",
       "    .dataframe tbody tr th:only-of-type {\n",
       "        vertical-align: middle;\n",
       "    }\n",
       "\n",
       "    .dataframe tbody tr th {\n",
       "        vertical-align: top;\n",
       "    }\n",
       "\n",
       "    .dataframe thead th {\n",
       "        text-align: right;\n",
       "    }\n",
       "</style>\n",
       "<table border=\"1\" class=\"dataframe\">\n",
       "  <thead>\n",
       "    <tr style=\"text-align: right;\">\n",
       "      <th></th>\n",
       "      <th>Compound ID</th>\n",
       "      <th>ESOL predicted log solubility in mols per litre</th>\n",
       "      <th>Minimum Degree</th>\n",
       "      <th>Molecular Weight</th>\n",
       "      <th>Number of H-Bond Donors</th>\n",
       "      <th>Number of Rings</th>\n",
       "      <th>Number of Rotatable Bonds</th>\n",
       "      <th>Polar Surface Area</th>\n",
       "      <th>measured log solubility in mols per litre</th>\n",
       "      <th>smiles</th>\n",
       "      <th>Molecule</th>\n",
       "      <th>NN FP predictions</th>\n",
       "    </tr>\n",
       "  </thead>\n",
       "  <tbody>\n",
       "    <tr>\n",
       "      <th>690</th>\n",
       "      <td>3,3-Dimethyl-1-butanol</td>\n",
       "      <td>-1.365</td>\n",
       "      <td>1</td>\n",
       "      <td>102.177</td>\n",
       "      <td>1</td>\n",
       "      <td>0</td>\n",
       "      <td>1</td>\n",
       "      <td>20.23</td>\n",
       "      <td>-0.50</td>\n",
       "      <td>CC(C)(C)CCO</td>\n",
       "      <td><img data-content=\"rdkit/molecule\" src=\"data:image/png;base64,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\" alt=\"Mol\"/></td>\n",
       "      <td>-1.796161</td>\n",
       "    </tr>\n",
       "    <tr>\n",
       "      <th>460</th>\n",
       "      <td>1-Pentanol</td>\n",
       "      <td>-1.042</td>\n",
       "      <td>1</td>\n",
       "      <td>88.150</td>\n",
       "      <td>1</td>\n",
       "      <td>0</td>\n",
       "      <td>3</td>\n",
       "      <td>20.23</td>\n",
       "      <td>-0.60</td>\n",
       "      <td>CCCCCO</td>\n",
       "      <td><img data-content=\"rdkit/molecule\" src=\"data:image/png;base64,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\" alt=\"Mol\"/></td>\n",
       "      <td>-3.335987</td>\n",
       "    </tr>\n",
       "    <tr>\n",
       "      <th>891</th>\n",
       "      <td>Diphenylmethane</td>\n",
       "      <td>-4.090</td>\n",
       "      <td>2</td>\n",
       "      <td>168.239</td>\n",
       "      <td>0</td>\n",
       "      <td>2</td>\n",
       "      <td>2</td>\n",
       "      <td>0.00</td>\n",
       "      <td>-4.08</td>\n",
       "      <td>C(c1ccccc1)c2ccccc2</td>\n",
       "      <td><img data-content=\"rdkit/molecule\" src=\"data:image/png;base64,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\" alt=\"Mol\"/></td>\n",
       "      <td>-2.606821</td>\n",
       "    </tr>\n",
       "    <tr>\n",
       "      <th>553</th>\n",
       "      <td>1-Iodobutane</td>\n",
       "      <td>-2.841</td>\n",
       "      <td>1</td>\n",
       "      <td>184.020</td>\n",
       "      <td>0</td>\n",
       "      <td>0</td>\n",
       "      <td>2</td>\n",
       "      <td>0.00</td>\n",
       "      <td>-2.96</td>\n",
       "      <td>CCCCI</td>\n",
       "      <td><img data-content=\"rdkit/molecule\" src=\"data:image/png;base64,iVBORw0KGgoAAAANSUhEUgAAAMgAAADICAIAAAAiOjnJAAAABmJLR0QA/wD/AP+gvaeTAAAI1UlEQVR4nO3cSUxUeQLH8T+rIq7gilruCnHfglvcMDFG463mMAnJzIVkLqRvdZmkLibDkUmTTjj0oXqZniFOZoKJyyCo0RAiNO4YFImiuCvFvpRVNYe/qVTolq3erwq6v5+TB+q9P8/ve+9f7/1DUjgcNoDTkhM9APw2ERYkCAsShAUJwoIEYUGCsCBBWJAgLEgQFiQICxKEBQnCggRhQYKwIEFYkCAsSBAWJAgLEoQFCcKCBGFBgrAgQViQICxIEBYkCAsShAUJwoIEYUGCsCBBWJAgLEgQFiQICxKEBQnCggRhQYKwIEFYkCAsSBAWJAgLEoQFCcKCBGFBgrAgQViQICxIEBYkCAsShAUJwoIEYUGCsCBBWJAgLEgQFiQICxKEBQnCggRhQYKwIEFYkCAsSBAWJAgLEoQFCcKCBGFBgrAgQViQICxIEBYkCAsShAUJwoIEYUGCsCBBWJAgLEikJnoAI+no6Lh169bg4OChQ4dmzJiR6OEk2IMHD8LhcGtr6+nTpxM9ljEIT0rBYNDn8y1cuDAzMzMtLW3p0qU+ny8UCiV6XInx8eNHj8eTnp6+atUqY0x+fn5dXV2iBzWKyRhWTU3Nli1bbPe7du3auHGj/feBAwcaGhoSPbq4CgQCZWVl2dnZxpjU1NSCgoL58+cbY1JSUoqKit6+fZvoAX7R5Aqrra2tsLDQZrR8+XJ7lQqFQj6fb/HixcaYpKSkwsLCV69eJXqk8VBdXR05wY4cOXLnzp1wONzR0eHxeKZNm2aMmTlzptfrHRgYSPRIf8VkCau3t9fr9U6fPt0YM2PGDK/X29/fH/0DPT09Xq/XHtDMzMxJe0Ad0dLS4na7o0+wYT/w6NGjyA+sW7euoqIiIeMcQeLDCoVCFRUVLpfLXpDcbvezZ8++9MOPHz+OHNC1a9dOwgMaI3v+2BPMnj/DTrBoVVVVkXnCsWPH7t27F8+hjizBYdXX1+/fvz8ynbpx48ZYPnX58uXNmzfbTx09evTu3bvqccbBsDu+2+1ua2sb9VNDQ0Pl5eV24pWWllZUVPTu3bs4jHZUCQurvb29qKgoOTnZGLNkyZLy8vJgMDj2jwcCgfLy8gULFthZ7SSfyY7q5s2be/futafK7t27a2trx/XxDx8+FBcXp6SkGGOysrJKS0s/ffokGuoYJSCswcHB0tLS2bNnG2PS09OLi4s7Ozsntil7QFNTU40x8+bNKy0tDQQCzo5W7cWLF4WFhUlJScaYnJycWJ6qNDU1HT9+3NaZl5d38eJFZ4c6LvEOq7KycvXq1faXP3Xq1JMnT2Lf5sOHD0+cOGG3mZube/78+di3GQd9fX0lJSWzZs0yxmRkZHg8nq6urtg3W1lZaR93OXiEJyB+YUWfT7m5uRcuXHB2+5WVlWvWrIkc0JaWFme376xh//2tra0ObtzeE2yy9p7gSLLjEo+wfjkDEN2whoaGIjfZtLS0WG6yOo2NjQcPHrRJbd++/dq1a6IdRc9ic3JyxjuLjZE2LDvFtt9Z7BQ7Dt9ZXr58OexrQcJnstb79+8jJ1h2dnZ8pti1tbW7d++2He/Zs+fRrS8+ynGWMKyqqqpNmzbZX6mgoCDOT1kaGhoOHDhg975z587r16/Hc+/D2EvpnDlzIpdSv98ft71HnhTmLd3+Y67/6l96e9rlly5JWJPkubA9oCtWrIg8GXr69Gn8hzHsMeb9+/fjP4ZwONzV1XXl6+Yf1vp9Lv+PeZ13ywY+Kd9cOBxWd3d35MXLJHmTZV8WZWRk2JdFHo+nu7s7Prtubm4+efKkTWr9+vXnzp2Lz35H0NMevP5Vr8/l97n8Z/d0tZwdFO3IsbDsQpdFixYZY5KTkwsLC1+/fu3UxmP3/PnzyOOiZcuWqRfh2FfF6enpxpi5c+eWlJQk/ASL9qo2UHm82+Z16Q89H5ucn+o5E1ZdXV1+fr49NSfzaqGrV69u27ZNOs7ISrLICfbmzRvH9xK7UDDccnbwX9s7fS7/dyv917/q7X/v5JkWa1hxvhLETnplvXLlytatW224hw8fvn37tlNbFhnsDP38t/7v1/h9Lv9PmzrvfTMQHHJmyxMPq7e3t6SkZObMmfGfu8TO8bngr64kc2q0ap1PgtV/6rF3xv8c7npe7cBTxomEFf1tyz44Tsi3rdg58u111JVkU8XL64H/FnTZvP73x56O5pgmXuMOK/r50I4dOxL7fMgR0c/bxrWqaVwryaaEYCDc9O3ATxs7fS7/96v9N719g10TvO6OIyz7RNs+OJ4/f/5kWJvhlOhVTWN8Q1BfX79v3z6b49hXkk0JAx9DN719363y+1z+f27tbPp2IBT1//zmZqDur30vroxyuxxTWFPiHVzsxriqKcaVZFPFh/ufLro/T7zOneh+Xfe5pOYfBn0u/52/jzIlHT2sqbVqIHYjrGpycCXZVPG8aujf+z9PvKr/3NPdFnQgrOh1Ths2bJgq65wc8ct1Y4qVZFPCp/7QvW8G/pHX6XP52y4NxRpWY2OjXZmZlZVVVlY25VZmxq6/v//MmTOZmZl2AmCT2rJlS01NTaKHlgA97cG7Xw+EHbkVFhQUTPW15LGzMyq3271y5crf0veVCRtjWCP97YZLly7ZmezvWWSJnDGGozF2I4XFcYzgUIwXf8YIEoQFCcKCBGFBgrAwTknGGJM0WjhJ4XA4DoPB7w1XLEgQFiQICxKEBQnCggRhQYKwIEFYkCAsSBAWJAgLEoQFCcKCBGFBgrAgQViQICxIEBYkCAsShAUJwoIEYUGCsCBBWJAgLEgQFiQICxKEBQnCggRhQYKwIEFYkCAsSBAWJAgLEoQFCcKCBGFBgrAgQViQICxIEBYkCAsShAUJwoIEYUGCsCBBWJAgLEgQFiQICxKEBQnCggRhQYKwIEFYkCAsSBAWJAgLEoQFCcKCBGFBgrAgQViQICxIEBYkCAsShAUJwoIEYUGCsCBBWJAgLEgQFiQICxKEBQnCggRhQYKwIEFYkCAsSBAWJP4PNaizwD9x8jwAAAAASUVORK5CYII=\" alt=\"Mol\"/></td>\n",
       "      <td>-3.201771</td>\n",
       "    </tr>\n",
       "    <tr>\n",
       "      <th>857</th>\n",
       "      <td>thioanisole</td>\n",
       "      <td>-2.870</td>\n",
       "      <td>1</td>\n",
       "      <td>124.208</td>\n",
       "      <td>0</td>\n",
       "      <td>1</td>\n",
       "      <td>1</td>\n",
       "      <td>0.00</td>\n",
       "      <td>-2.39</td>\n",
       "      <td>c1ccccc1SC</td>\n",
       "      <td><img data-content=\"rdkit/molecule\" src=\"data:image/png;base64,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\" alt=\"Mol\"/></td>\n",
       "      <td>-2.809479</td>\n",
       "    </tr>\n",
       "  </tbody>\n",
       "</table>\n",
       "</div>"
      ],
      "text/plain": [
       "                Compound ID  ESOL predicted log solubility in mols per litre  \\\n",
       "690  3,3-Dimethyl-1-butanol                                           -1.365   \n",
       "460              1-Pentanol                                           -1.042   \n",
       "891         Diphenylmethane                                           -4.090   \n",
       "553            1-Iodobutane                                           -2.841   \n",
       "857             thioanisole                                           -2.870   \n",
       "\n",
       "     Minimum Degree  Molecular Weight  Number of H-Bond Donors  \\\n",
       "690               1           102.177                        1   \n",
       "460               1            88.150                        1   \n",
       "891               2           168.239                        0   \n",
       "553               1           184.020                        0   \n",
       "857               1           124.208                        0   \n",
       "\n",
       "     Number of Rings  Number of Rotatable Bonds  Polar Surface Area  \\\n",
       "690                0                          1               20.23   \n",
       "460                0                          3               20.23   \n",
       "891                2                          2                0.00   \n",
       "553                0                          2                0.00   \n",
       "857                1                          1                0.00   \n",
       "\n",
       "     measured log solubility in mols per litre               smiles  \\\n",
       "690                                      -0.50          CC(C)(C)CCO   \n",
       "460                                      -0.60               CCCCCO   \n",
       "891                                      -4.08  C(c1ccccc1)c2ccccc2   \n",
       "553                                      -2.96                CCCCI   \n",
       "857                                      -2.39           c1ccccc1SC   \n",
       "\n",
       "                                              Molecule  NN FP predictions  \n",
       "690  <img data-content=\"rdkit/molecule\" src=\"data:i...          -1.796161  \n",
       "460  <img data-content=\"rdkit/molecule\" src=\"data:i...          -3.335987  \n",
       "891  <img data-content=\"rdkit/molecule\" src=\"data:i...          -2.606821  \n",
       "553  <img data-content=\"rdkit/molecule\" src=\"data:i...          -3.201771  \n",
       "857  <img data-content=\"rdkit/molecule\" src=\"data:i...          -2.809479  "
      ]
     },
     "execution_count": 27,
     "metadata": {},
     "output_type": "execute_result"
    }
   ],
   "source": [
    "val_df['NN FP predictions'] = out['val_predictions']\n",
    "\n",
    "val_df.head()"
   ]
  },
  {
   "cell_type": "markdown",
   "metadata": {},
   "source": [
    "🕰  **(optional) Task C -- Different Feedforward NNs/Fingeprint Sizes:** Here we used 1024 dimensional features and a simple 2 layer NN. Explore using different dimensional fingerprints and different network architectures. As you use smaller fingerprints one bit may correspond to more substructures.\n",
    "How about trying also some [other regression models](https://scikit-learn.org/stable/supervised_learning.html#supervised-learning) or [other descriptors](https://www.rdkit.org/docs/source/rdkit.Chem.Descriptors.html)?"
   ]
  },
  {
   "cell_type": "markdown",
   "metadata": {},
   "source": [
    "### 3.3 Sequence based methods on SMILES string\n",
    "\n",
    "As discussed in Miguel's lecture an alternative to fingerprints is to run a sequence based model directly on the SMILES strings. Two ways to do this are using RNNs and CNNs, which we are going to code up in this subsection. These models both break up the sequence into a series of symbols:\n",
    "\n",
    "<img src=\"https://github.com/john-bradshaw/ml-in-bioinformatics-summer-school-2020/raw/master/imgs/RNNs_CNNs_on_smiles.png\" width=\"600px\"/>\n",
    "\n",
    "(taken from [Miguel's slides](http://mlss.ii.uam.es/mlss2018/speakers.html))\n",
    "\n",
    "We can then in turn represent each of these symbols in tensor form by using one-hot encodings. We'll therefore start by writing the transform to do this before writing the CNN and RNN models.\n",
    "\n",
    "🧪   **Task 5:** Write the code to take in a SMILES string and convert it to a tensor where each row is each symbol's one-hot encoding. So for instance acetaldehyde, CC=O, should be represented as:  \n",
    "\n",
    "\\begin{bmatrix}\n",
    "[0., 0., 0., 0., 0., 0., 0., 0., 0., 0., 0., 0., 0., 0., 0., 1.,\n",
    "        0., 0., 0., 0., 0., 0., 0., 0., 0., 0., 0., 0., 0., 0., 0., 0.]\\\\\n",
    "       [0., 0., 0., 0., 0., 0., 0., 0., 0., 0., 0., 0., 0., 0., 0., 1.,\n",
    "        0., 0., 0., 0., 0., 0., 0., 0., 0., 0., 0., 0., 0., 0., 0., 0.]\\\\\n",
    "       [0., 0., 0., 0., 0., 0., 0., 0., 0., 0., 0., 0., 0., 1., 0., 0.,\n",
    "        0., 0., 0., 0., 0., 0., 0., 0., 0., 0., 0., 0., 0., 0., 0., 0.]\\\\\n",
    "       [0., 0., 0., 0., 0., 0., 0., 0., 0., 0., 0., 0., 0., 0., 0., 0.,\n",
    "        0., 0., 0., 0., 1., 0., 0., 0., 0., 0., 0., 0., 0., 0., 0., 0.]\\\\\n",
    "       [0., 0., 0., 0., 0., 0., 0., 0., 0., 0., 0., 0., 0., 0., 0., 0.,\n",
    "        0., 0., 0., 0., 0., 0., 0., 0., 0., 0., 0., 0., 0., 0., 0., 0.]\\\\\n",
    "        \\ldots\n",
    "\\end{bmatrix}\n",
    "  \n",
    "Padding will be needed at the end so that all sequences have the same length (you may find the [PyTorch function](https://pytorch.org/docs/master/nn.functional.html#torch.nn.functional.pad) `F.pad` useful in this regard). You should use the `SymbolFeaturizer` class from earlier to compute the one-hot encodings.\n",
    "This code will be used to transform the data for the RNN/CNN models in a similar way the function `transform_ff_nn` did for the feedforward NN model above. "
   ]
  },
  {
   "cell_type": "code",
   "execution_count": 28,
   "metadata": {},
   "outputs": [],
   "source": [
    "# This will calculate the maximum SMILES string size in our data, which is the \n",
    "# same as the length we should ensure all tensors are padded to so that they can\n",
    "# be batched:\n",
    "max_seq_size = df['smiles'].map(len).max()\n",
    "\n",
    "# This will calculate all the possible symbols in the smiles string:\n",
    "symbols_in_smiles = set(itertools.chain(*df['smiles'].tolist()))\n",
    "symbols_in_smiles = sorted(list(symbols_in_smiles))\n",
    "\n",
    "# ...which we can then use to create a symbol featurizer\n",
    "symbol_featurizer = SymbolFeaturizer(symbols_in_smiles)"
   ]
  },
  {
   "cell_type": "code",
   "execution_count": 29,
   "metadata": {},
   "outputs": [
    {
     "name": "stderr",
     "output_type": "stream",
     "text": [
      "/Users/john/anaconda3/envs/ss_moscow_2020/lib/python3.7/site-packages/ipykernel_launcher.py:24: UserWarning: This overload of nonzero is deprecated:\n",
      "\tnonzero(Tensor input, *, Tensor out)\n",
      "Consider using one of the following signatures instead:\n",
      "\tnonzero(Tensor input, *, bool as_tuple) (Triggered internally at  /Users/distiller/project/conda/conda-bld/pytorch_1595629430416/work/torch/csrc/utils/python_arg_parser.cpp:766.)\n"
     ]
    },
    {
     "data": {
      "text/plain": [
       "tensor([[ 0, 15],\n",
       "        [ 1, 15],\n",
       "        [ 2, 13],\n",
       "        [ 3, 20]])"
      ]
     },
     "execution_count": 29,
     "metadata": {},
     "output_type": "execute_result"
    }
   ],
   "source": [
    "\n",
    "class TransformSeqModel:\n",
    "    def __init__(self, symbol_featurizer, max_seq_size):\n",
    "        self.symbol_featurizer = symbol_featurizer\n",
    "        self.max_seq_size = max_seq_size\n",
    "    \n",
    "    def __call__(self, smiles: str) -> torch.Tensor:\n",
    "        \"\"\"\n",
    "        Transforms SMILES strings into one-hot encodings of each symbol present.\n",
    "        \n",
    "        :returns: a tensor (dtype=torch.float32) of size \n",
    "        [max_seq_size, one_hot_encoding_size]\n",
    "        \"\"\"\n",
    "        one_hot_encodings = [self.symbol_featurizer(e) for e in smiles]\n",
    "        one_hot_encodings = torch.tensor(one_hot_encodings, dtype=torch.float32)\n",
    "        one_hot_encodings = F.pad(one_hot_encodings, (0,0,0, self.max_seq_size - one_hot_encodings.shape[0]))\n",
    "        return one_hot_encodings\n",
    "        \n",
    "        \n",
    "transform_seq_model = TransformSeqModel(symbol_featurizer, max_seq_size)\n",
    "\n",
    "# You can check the function is correct by eyeballing the output for acetaldehyde\n",
    "# (alternatively you could write a function that converts back to SMILES to check for you)\n",
    "torch.set_printoptions(profile=\"full\")\n",
    "torch.nonzero(transform_seq_model(\"CC=O\"))"
   ]
  },
  {
   "cell_type": "markdown",
   "metadata": {},
   "source": [
    "Having coded up a suitable transform we are left with creating the model! Let's start first with the RNN and then move onto the CNN.\n",
    "\n",
    "🧪   **Task 6:** Complete the code below for a RNN to run on this sequence of one-hot encodings. For instance, you could use either a [GRU](https://pytorch.org/docs/stable/generated/torch.nn.GRU.html?highlight=gru#torch.nn.GRU) or [LSTM](https://pytorch.org/docs/stable/generated/torch.nn.LSTM.html?highlight=lstm#torch.nn.LSTM). To form final predictions, project down the final hidden layer of the RNN to a one dimensional space using a linear layer. Be careful, the RNN will recieve the sequences _batch first_.\n"
   ]
  },
  {
   "cell_type": "code",
   "execution_count": 30,
   "metadata": {},
   "outputs": [],
   "source": [
    "\n",
    "class RNNModel(nn.Module):\n",
    "    def __init__(self, symbol_vocab_size: int):\n",
    "        \"\"\"\n",
    "        :param symbol_vocab_size: the dimension of the one-hot vectors, ie how many symbols we have\n",
    "        in total (and also the initial channel size being fed into the RNN.)\n",
    "        \"\"\"\n",
    "        super().__init__()\n",
    "        h_size = 128\n",
    "        self.rnn = nn.GRU(input_size=symbol_vocab_size, hidden_size=h_size, num_layers=2,\n",
    "                          batch_first=True, bias=True)\n",
    "        # ^ nb you could use a bidirectional one if you wanted, more layers etc...\n",
    "        self.lin = nn.Linear(h_size, 1)\n",
    "        \n",
    "    def forward(self, x):\n",
    "        \"\"\"\n",
    "        :param x: tensor [batch_size, seq_size, symbol_vocab_size]\n",
    "        :returns: tensor [batch_size, 1]\n",
    "        \"\"\"\n",
    "        _, out = self.rnn(x)  # out = [num_layers, batch_size, hidden_size]\n",
    "        out = out[-1]  # [batch_size, hidden_size]\n",
    "        out = self.lin(out)  # [batch_size, 1]\n",
    "        return out\n",
    "\n",
    "rnn_model = RNNModel(len(symbols_in_smiles))"
   ]
  },
  {
   "cell_type": "code",
   "execution_count": 31,
   "metadata": {},
   "outputs": [
    {
     "data": {
      "text/plain": [
       "tensor([[-0.0405],\n",
       "        [-0.0405]], grad_fn=<AddmmBackward>)"
      ]
     },
     "execution_count": 31,
     "metadata": {},
     "output_type": "execute_result"
    }
   ],
   "source": [
    "# We can check this model works by running it forward on two acetaldehydes batched up:\n",
    "# (this should produce a two element column vector)\n",
    "rnn_model(torch.stack([transform_seq_model(\"CC=O\"), transform_seq_model(\"CC=O\")]))\n"
   ]
  },
  {
   "cell_type": "markdown",
   "metadata": {},
   "source": [
    "This done, we can train and evaluate our new model:"
   ]
  },
  {
   "cell_type": "code",
   "execution_count": 32,
   "metadata": {},
   "outputs": [
    {
     "name": "stdout",
     "output_type": "stream",
     "text": [
      "Train dataset is of size 1016 and valid of size 112\n",
      "Epoch - 0\n",
      "Training Results - Epoch: 0  Avg loss: 13.66\n",
      "Validation Results - Epoch: 0 Avg loss: 11.52\n"
     ]
    },
    {
     "data": {
      "application/vnd.jupyter.widget-view+json": {
       "model_id": "",
       "version_major": 2,
       "version_minor": 0
      },
      "text/plain": [
       "HBox(children=(FloatProgress(value=0.0, max=16.0), HTML(value='')))"
      ]
     },
     "metadata": {},
     "output_type": "display_data"
    },
    {
     "name": "stdout",
     "output_type": "stream",
     "text": [
      "\n",
      "Epoch - 1\n",
      "Training Results - Epoch: 1  Avg loss: 5.36\n",
      "Validation Results - Epoch: 1 Avg loss: 6.86\n"
     ]
    },
    {
     "data": {
      "application/vnd.jupyter.widget-view+json": {
       "model_id": "",
       "version_major": 2,
       "version_minor": 0
      },
      "text/plain": [
       "HBox(children=(FloatProgress(value=0.0, max=16.0), HTML(value='')))"
      ]
     },
     "metadata": {},
     "output_type": "display_data"
    },
    {
     "name": "stdout",
     "output_type": "stream",
     "text": [
      "\n",
      "Epoch - 2\n",
      "Training Results - Epoch: 2  Avg loss: 4.33\n",
      "Validation Results - Epoch: 2 Avg loss: 4.90\n"
     ]
    },
    {
     "data": {
      "application/vnd.jupyter.widget-view+json": {
       "model_id": "",
       "version_major": 2,
       "version_minor": 0
      },
      "text/plain": [
       "HBox(children=(FloatProgress(value=0.0, max=16.0), HTML(value='')))"
      ]
     },
     "metadata": {},
     "output_type": "display_data"
    },
    {
     "name": "stdout",
     "output_type": "stream",
     "text": [
      "\n",
      "Epoch - 3\n",
      "Training Results - Epoch: 3  Avg loss: 4.33\n",
      "Validation Results - Epoch: 3 Avg loss: 4.91\n"
     ]
    },
    {
     "data": {
      "application/vnd.jupyter.widget-view+json": {
       "model_id": "",
       "version_major": 2,
       "version_minor": 0
      },
      "text/plain": [
       "HBox(children=(FloatProgress(value=0.0, max=16.0), HTML(value='')))"
      ]
     },
     "metadata": {},
     "output_type": "display_data"
    },
    {
     "name": "stdout",
     "output_type": "stream",
     "text": [
      "\n",
      "Epoch - 4\n",
      "Training Results - Epoch: 4  Avg loss: 4.32\n",
      "Validation Results - Epoch: 4 Avg loss: 4.96\n"
     ]
    },
    {
     "data": {
      "application/vnd.jupyter.widget-view+json": {
       "model_id": "",
       "version_major": 2,
       "version_minor": 0
      },
      "text/plain": [
       "HBox(children=(FloatProgress(value=0.0, max=16.0), HTML(value='')))"
      ]
     },
     "metadata": {},
     "output_type": "display_data"
    },
    {
     "name": "stdout",
     "output_type": "stream",
     "text": [
      "\n",
      "Epoch - 5\n",
      "Training Results - Epoch: 5  Avg loss: 4.32\n",
      "Validation Results - Epoch: 5 Avg loss: 4.75\n"
     ]
    },
    {
     "data": {
      "application/vnd.jupyter.widget-view+json": {
       "model_id": "",
       "version_major": 2,
       "version_minor": 0
      },
      "text/plain": [
       "HBox(children=(FloatProgress(value=0.0, max=16.0), HTML(value='')))"
      ]
     },
     "metadata": {},
     "output_type": "display_data"
    },
    {
     "name": "stdout",
     "output_type": "stream",
     "text": [
      "\n",
      "Epoch - 6\n",
      "Training Results - Epoch: 6  Avg loss: 4.19\n",
      "Validation Results - Epoch: 6 Avg loss: 4.90\n"
     ]
    },
    {
     "data": {
      "application/vnd.jupyter.widget-view+json": {
       "model_id": "",
       "version_major": 2,
       "version_minor": 0
      },
      "text/plain": [
       "HBox(children=(FloatProgress(value=0.0, max=16.0), HTML(value='')))"
      ]
     },
     "metadata": {},
     "output_type": "display_data"
    },
    {
     "name": "stdout",
     "output_type": "stream",
     "text": [
      "\n",
      "Epoch - 7\n",
      "Training Results - Epoch: 7  Avg loss: 3.75\n",
      "Validation Results - Epoch: 7 Avg loss: 4.45\n"
     ]
    },
    {
     "data": {
      "application/vnd.jupyter.widget-view+json": {
       "model_id": "",
       "version_major": 2,
       "version_minor": 0
      },
      "text/plain": [
       "HBox(children=(FloatProgress(value=0.0, max=16.0), HTML(value='')))"
      ]
     },
     "metadata": {},
     "output_type": "display_data"
    },
    {
     "name": "stdout",
     "output_type": "stream",
     "text": [
      "\n",
      "Epoch - 8\n",
      "Training Results - Epoch: 8  Avg loss: 2.83\n",
      "Validation Results - Epoch: 8 Avg loss: 3.75\n"
     ]
    },
    {
     "data": {
      "application/vnd.jupyter.widget-view+json": {
       "model_id": "",
       "version_major": 2,
       "version_minor": 0
      },
      "text/plain": [
       "HBox(children=(FloatProgress(value=0.0, max=16.0), HTML(value='')))"
      ]
     },
     "metadata": {},
     "output_type": "display_data"
    },
    {
     "name": "stdout",
     "output_type": "stream",
     "text": [
      "\n",
      "Epoch - 9\n",
      "Training Results - Epoch: 9  Avg loss: 1.64\n",
      "Validation Results - Epoch: 9 Avg loss: 2.14\n"
     ]
    },
    {
     "data": {
      "application/vnd.jupyter.widget-view+json": {
       "model_id": "",
       "version_major": 2,
       "version_minor": 0
      },
      "text/plain": [
       "HBox(children=(FloatProgress(value=0.0, max=16.0), HTML(value='')))"
      ]
     },
     "metadata": {},
     "output_type": "display_data"
    },
    {
     "name": "stdout",
     "output_type": "stream",
     "text": [
      "\n",
      "Epoch - 10\n",
      "Training Results - Epoch: 10  Avg loss: 1.43\n",
      "Validation Results - Epoch: 10 Avg loss: 1.88\n"
     ]
    },
    {
     "data": {
      "text/html": [
       "<table>\n",
       "<tbody>\n",
       "<tr><td>Num params             </td><td style=\"text-align: right;\">161000    </td></tr>\n",
       "<tr><td>Minimum train loss     </td><td style=\"text-align: right;\">     1.43 </td></tr>\n",
       "<tr><td>Mean validation time   </td><td style=\"text-align: right;\">     0.248</td></tr>\n",
       "<tr><td>Minimum validation loss</td><td style=\"text-align: right;\">     1.884</td></tr>\n",
       "</tbody>\n",
       "</table>"
      ],
      "text/plain": [
       "<IPython.core.display.HTML object>"
      ]
     },
     "metadata": {},
     "output_type": "display_data"
    }
   ],
   "source": [
    "# Train and evaluate\n",
    "out = ss_utils.train_neural_network(train_df, val_df, \"smiles\", \"measured log solubility in mols per litre\",\n",
    "                                    transform_seq_model, rnn_model)\n",
    "\n",
    "# And then we print out as a table some of the results.\n",
    "display(HTML(tabulate.tabulate(out['out_table'], tablefmt=\"html\")))"
   ]
  },
  {
   "cell_type": "markdown",
   "metadata": {},
   "source": [
    "We can again plot the train/validation loss curves and check for too little training time or any overfitting:"
   ]
  },
  {
   "cell_type": "code",
   "execution_count": 33,
   "metadata": {},
   "outputs": [
    {
     "data": {
      "text/html": [
       "\n",
       "<div id=\"altair-viz-4959f86a0a654e6f8e836e82d24d611d\"></div>\n",
       "<script type=\"text/javascript\">\n",
       "  (function(spec, embedOpt){\n",
       "    let outputDiv = document.currentScript.previousElementSibling;\n",
       "    if (outputDiv.id !== \"altair-viz-4959f86a0a654e6f8e836e82d24d611d\") {\n",
       "      outputDiv = document.getElementById(\"altair-viz-4959f86a0a654e6f8e836e82d24d611d\");\n",
       "    }\n",
       "    const paths = {\n",
       "      \"vega\": \"https://cdn.jsdelivr.net/npm//vega@5?noext\",\n",
       "      \"vega-lib\": \"https://cdn.jsdelivr.net/npm//vega-lib?noext\",\n",
       "      \"vega-lite\": \"https://cdn.jsdelivr.net/npm//vega-lite@4.8.1?noext\",\n",
       "      \"vega-embed\": \"https://cdn.jsdelivr.net/npm//vega-embed@6?noext\",\n",
       "    };\n",
       "\n",
       "    function loadScript(lib) {\n",
       "      return new Promise(function(resolve, reject) {\n",
       "        var s = document.createElement('script');\n",
       "        s.src = paths[lib];\n",
       "        s.async = true;\n",
       "        s.onload = () => resolve(paths[lib]);\n",
       "        s.onerror = () => reject(`Error loading script: ${paths[lib]}`);\n",
       "        document.getElementsByTagName(\"head\")[0].appendChild(s);\n",
       "      });\n",
       "    }\n",
       "\n",
       "    function showError(err) {\n",
       "      outputDiv.innerHTML = `<div class=\"error\" style=\"color:red;\">${err}</div>`;\n",
       "      throw err;\n",
       "    }\n",
       "\n",
       "    function displayChart(vegaEmbed) {\n",
       "      vegaEmbed(outputDiv, spec, embedOpt)\n",
       "        .catch(err => showError(`Javascript Error: ${err.message}<br>This usually means there's a typo in your chart specification. See the javascript console for the full traceback.`));\n",
       "    }\n",
       "\n",
       "    if(typeof define === \"function\" && define.amd) {\n",
       "      requirejs.config({paths});\n",
       "      require([\"vega-embed\"], displayChart, err => showError(`Error loading script: ${err.message}`));\n",
       "    } else if (typeof vegaEmbed === \"function\") {\n",
       "      displayChart(vegaEmbed);\n",
       "    } else {\n",
       "      loadScript(\"vega\")\n",
       "        .then(() => loadScript(\"vega-lite\"))\n",
       "        .then(() => loadScript(\"vega-embed\"))\n",
       "        .catch(showError)\n",
       "        .then(() => displayChart(vegaEmbed));\n",
       "    }\n",
       "  })({\"config\": {\"view\": {\"continuousWidth\": 400, \"continuousHeight\": 300}}, \"layer\": [{\"mark\": {\"type\": \"line\", \"interpolate\": \"basis\"}, \"encoding\": {\"color\": {\"type\": \"nominal\", \"field\": \"category\"}, \"x\": {\"type\": \"quantitative\", \"field\": \"epoch\"}, \"y\": {\"type\": \"quantitative\", \"field\": \"loss\"}}}, {\"mark\": \"point\", \"encoding\": {\"opacity\": {\"value\": 0}, \"x\": {\"type\": \"quantitative\", \"field\": \"epoch\"}}, \"selection\": {\"selector002\": {\"type\": \"single\", \"nearest\": true, \"on\": \"mouseover\", \"fields\": [\"epoch\"], \"empty\": \"none\"}}}, {\"mark\": \"point\", \"encoding\": {\"color\": {\"type\": \"nominal\", \"field\": \"category\"}, \"opacity\": {\"condition\": {\"value\": 1, \"selection\": \"selector002\"}, \"value\": 0}, \"x\": {\"type\": \"quantitative\", \"field\": \"epoch\"}, \"y\": {\"type\": \"quantitative\", \"field\": \"loss\"}}}, {\"mark\": {\"type\": \"rule\", \"color\": \"gray\"}, \"encoding\": {\"x\": {\"type\": \"quantitative\", \"field\": \"epoch\"}}, \"transform\": [{\"filter\": {\"selection\": \"selector002\"}}]}, {\"mark\": {\"type\": \"text\", \"align\": \"left\", \"dx\": 5, \"dy\": -5}, \"encoding\": {\"color\": {\"type\": \"nominal\", \"field\": \"category\"}, \"text\": {\"condition\": {\"type\": \"quantitative\", \"field\": \"loss\", \"selection\": \"selector002\"}, \"value\": \" \"}, \"x\": {\"type\": \"quantitative\", \"field\": \"epoch\"}, \"y\": {\"type\": \"quantitative\", \"field\": \"loss\"}}}], \"data\": {\"name\": \"data-0360ed109971bebd4b6653b199f23790\"}, \"height\": 300, \"width\": 600, \"$schema\": \"https://vega.github.io/schema/vega-lite/v4.8.1.json\", \"datasets\": {\"data-0360ed109971bebd4b6653b199f23790\": [{\"epoch\": 0, \"category\": \"train_loss\", \"loss\": 13.662086952389695}, {\"epoch\": 1, \"category\": \"train_loss\", \"loss\": 5.356012971382442}, {\"epoch\": 2, \"category\": \"train_loss\", \"loss\": 4.334259720299188}, {\"epoch\": 3, \"category\": \"train_loss\", \"loss\": 4.332838987740945}, {\"epoch\": 4, \"category\": \"train_loss\", \"loss\": 4.320454383459617}, {\"epoch\": 5, \"category\": \"train_loss\", \"loss\": 4.317888798676138}, {\"epoch\": 6, \"category\": \"train_loss\", \"loss\": 4.185387712763989}, {\"epoch\": 7, \"category\": \"train_loss\", \"loss\": 3.745356845104788}, {\"epoch\": 8, \"category\": \"train_loss\", \"loss\": 2.832660569919376}, {\"epoch\": 9, \"category\": \"train_loss\", \"loss\": 1.6386995925678043}, {\"epoch\": 10, \"category\": \"train_loss\", \"loss\": 1.4304853508791586}, {\"epoch\": 0, \"category\": \"val_loss\", \"loss\": 11.518620218549456}, {\"epoch\": 1, \"category\": \"val_loss\", \"loss\": 6.857828617095947}, {\"epoch\": 2, \"category\": \"val_loss\", \"loss\": 4.904166630336216}, {\"epoch\": 3, \"category\": \"val_loss\", \"loss\": 4.914811883653913}, {\"epoch\": 4, \"category\": \"val_loss\", \"loss\": 4.9608467647007535}, {\"epoch\": 5, \"category\": \"val_loss\", \"loss\": 4.747288908277239}, {\"epoch\": 6, \"category\": \"val_loss\", \"loss\": 4.895296573638916}, {\"epoch\": 7, \"category\": \"val_loss\", \"loss\": 4.452136175973075}, {\"epoch\": 8, \"category\": \"val_loss\", \"loss\": 3.746173483984811}, {\"epoch\": 9, \"category\": \"val_loss\", \"loss\": 2.138770682471139}, {\"epoch\": 10, \"category\": \"val_loss\", \"loss\": 1.8837859800883703}]}}, {\"mode\": \"vega-lite\"});\n",
       "</script>"
      ],
      "text/plain": [
       "alt.LayerChart(...)"
      ]
     },
     "execution_count": 33,
     "metadata": {},
     "output_type": "execute_result"
    },
    {
     "data": {
      "image/png": "[encoded data removed]",
      "text/plain": [
       "<Figure size 432x288 with 1 Axes>"
      ]
     },
     "metadata": {
      "needs_background": "light"
     },
     "output_type": "display_data"
    }
   ],
   "source": [
    "ss_utils.plot_train_and_val_using_mpl(out['train_loss_list'], out['val_lost_list'])\n",
    "\n",
    "ss_utils.plot_train_and_val_using_altair(out['train_loss_list'], out['val_lost_list'])"
   ]
  },
  {
   "cell_type": "markdown",
   "metadata": {},
   "source": [
    "This model can actually be harder to tune and choose sensible hyperparameters for than the simple feed forward neural network that we considered before. It is therefore useful to get a good baseline for performance, for instance by looking at the loss obtained by predicting the mean of the training set everwhere:"
   ]
  },
  {
   "cell_type": "code",
   "execution_count": 34,
   "metadata": {},
   "outputs": [
    {
     "data": {
      "text/plain": [
       "4.929260668175474"
      ]
     },
     "execution_count": 34,
     "metadata": {},
     "output_type": "execute_result"
    }
   ],
   "source": [
    "# Your model's loss should hopefully be lower than this dummy baseline's loss:\n",
    "np.mean((val_df['measured log solubility in mols per litre'].values -\n",
    "         train_df['measured log solubility in mols per litre'].mean())**2)"
   ]
  },
  {
   "cell_type": "markdown",
   "metadata": {},
   "source": [
    "Did your model do better? If not, you probably want to go back and tune the RNN hyperparameters until it does. How do the different hyperparameters of the model affect performance?\n",
    "\n",
    "When you've finished exploring that, let's move on to creating the convolutional neural network (CNN). This network, shown on the bottom of Miguel's slide above, will operate on the same input as the RNN, so we can reuse the same transform code (i.e. `TransformSeqModel`) and only need to write the new model code.\n",
    "\n",
    "🧪   **Task 7:** Code up the CNN. PyTorch has `nn.Conv1d`, `nn.Conv2d` and `nn.Conv3d` layers, read the [documentation](https://pytorch.org/docs/stable/nn.html#convolution-layers) and work out which one is appropriate here. Your model should consist of one of these convolutional layers followed by a pooling layer and then a linear projection. \n"
   ]
  },
  {
   "cell_type": "code",
   "execution_count": 35,
   "metadata": {},
   "outputs": [],
   "source": [
    "class CNNModel(nn.Module):\n",
    "    def __init__(self, symbol_vocab_size: int, seq_len:int):\n",
    "        \"\"\"\n",
    "        :param symbol_vocab_size: the size of the one hot vectors (also the initial channel size for the CNN)\n",
    "        :param seq_len: the size of all sequences.\n",
    "        \"\"\"\n",
    "        super().__init__()\n",
    "        \n",
    "        # conv params\n",
    "        self.channel_size_after_conv = 128\n",
    "        kernel_size = 3\n",
    "        \n",
    "        # convolution:\n",
    "        self.cnn = nn.Conv1d(in_channels=symbol_vocab_size,\n",
    "                             out_channels=self.channel_size_after_conv,\n",
    "                             kernel_size=kernel_size)\n",
    "        out_size_after_conv = seq_len - kernel_size + 1\n",
    "        # ^ computed using the formula on https://pytorch.org/docs/stable/generated/torch.nn.Conv1d.html\n",
    "        # note this will change if you use padding, dilation, etc...\n",
    "        \n",
    "        # we will pool across all of sequence:\n",
    "        self.pool = nn.AvgPool1d(kernel_size=out_size_after_conv)\n",
    "        \n",
    "        self.lin = nn.Linear(self.channel_size_after_conv, 1)\n",
    "        \n",
    "    def forward(self, x):\n",
    "        \"\"\"\n",
    "        :param x: tensor [batch_size, seq_size, symbol_vocab_size (channel dim)]\n",
    "        :returns: tensor [batch_size, 1]\n",
    "        \"\"\"\n",
    "        batch_size, *_ = x.shape\n",
    "        x = x.permute(0, 2, 1)  # [batch_size, symbol_vocab_size, seq_size]\n",
    "        out = self.cnn(x)  # [batch_size, C_out, L_out]\n",
    "        out = self.pool(out)  # [batch_size, C_out, 1]\n",
    "        out = out.view(batch_size, self.channel_size_after_conv) #  [batch_size, C_out]\n",
    "        out = self.lin(out)\n",
    "        return out\n",
    "\n",
    "    \n",
    "cnn_model = CNNModel(len(symbols_in_smiles), max_seq_size)"
   ]
  },
  {
   "cell_type": "code",
   "execution_count": 36,
   "metadata": {},
   "outputs": [
    {
     "data": {
      "text/plain": [
       "tensor([[0.1113],\n",
       "        [0.1113]], grad_fn=<AddmmBackward>)"
      ]
     },
     "execution_count": 36,
     "metadata": {},
     "output_type": "execute_result"
    }
   ],
   "source": [
    "# we can again quickly check that it works before its trained by running it once forward.\n",
    "cnn_model(torch.stack([transform_seq_model(\"CC=O\"), transform_seq_model(\"CC=O\")]))"
   ]
  },
  {
   "cell_type": "markdown",
   "metadata": {},
   "source": [
    "Having created the model we can now train it, the same way we have done for the RNN:"
   ]
  },
  {
   "cell_type": "code",
   "execution_count": 37,
   "metadata": {},
   "outputs": [
    {
     "name": "stdout",
     "output_type": "stream",
     "text": [
      "Train dataset is of size 1016 and valid of size 112\n",
      "Epoch - 0\n",
      "Training Results - Epoch: 0  Avg loss: 14.60\n",
      "Validation Results - Epoch: 0 Avg loss: 12.33\n"
     ]
    },
    {
     "data": {
      "application/vnd.jupyter.widget-view+json": {
       "model_id": "",
       "version_major": 2,
       "version_minor": 0
      },
      "text/plain": [
       "HBox(children=(FloatProgress(value=0.0, max=16.0), HTML(value='')))"
      ]
     },
     "metadata": {},
     "output_type": "display_data"
    },
    {
     "name": "stdout",
     "output_type": "stream",
     "text": [
      "\n",
      "Epoch - 1\n",
      "Training Results - Epoch: 1  Avg loss: 12.83\n",
      "Validation Results - Epoch: 1 Avg loss: 10.86\n"
     ]
    },
    {
     "data": {
      "application/vnd.jupyter.widget-view+json": {
       "model_id": "",
       "version_major": 2,
       "version_minor": 0
      },
      "text/plain": [
       "HBox(children=(FloatProgress(value=0.0, max=16.0), HTML(value='')))"
      ]
     },
     "metadata": {},
     "output_type": "display_data"
    },
    {
     "name": "stdout",
     "output_type": "stream",
     "text": [
      "\n",
      "Epoch - 2\n",
      "Training Results - Epoch: 2  Avg loss: 10.99\n",
      "Validation Results - Epoch: 2 Avg loss: 9.37\n"
     ]
    },
    {
     "data": {
      "application/vnd.jupyter.widget-view+json": {
       "model_id": "",
       "version_major": 2,
       "version_minor": 0
      },
      "text/plain": [
       "HBox(children=(FloatProgress(value=0.0, max=16.0), HTML(value='')))"
      ]
     },
     "metadata": {},
     "output_type": "display_data"
    },
    {
     "name": "stdout",
     "output_type": "stream",
     "text": [
      "\n",
      "Epoch - 3\n",
      "Training Results - Epoch: 3  Avg loss: 8.85\n",
      "Validation Results - Epoch: 3 Avg loss: 7.68\n"
     ]
    },
    {
     "data": {
      "application/vnd.jupyter.widget-view+json": {
       "model_id": "",
       "version_major": 2,
       "version_minor": 0
      },
      "text/plain": [
       "HBox(children=(FloatProgress(value=0.0, max=16.0), HTML(value='')))"
      ]
     },
     "metadata": {},
     "output_type": "display_data"
    },
    {
     "name": "stdout",
     "output_type": "stream",
     "text": [
      "\n",
      "Epoch - 4\n",
      "Training Results - Epoch: 4  Avg loss: 6.63\n",
      "Validation Results - Epoch: 4 Avg loss: 5.99\n"
     ]
    },
    {
     "data": {
      "application/vnd.jupyter.widget-view+json": {
       "model_id": "",
       "version_major": 2,
       "version_minor": 0
      },
      "text/plain": [
       "HBox(children=(FloatProgress(value=0.0, max=16.0), HTML(value='')))"
      ]
     },
     "metadata": {},
     "output_type": "display_data"
    },
    {
     "name": "stdout",
     "output_type": "stream",
     "text": [
      "\n",
      "Epoch - 5\n",
      "Training Results - Epoch: 5  Avg loss: 4.67\n",
      "Validation Results - Epoch: 5 Avg loss: 4.61\n"
     ]
    },
    {
     "data": {
      "application/vnd.jupyter.widget-view+json": {
       "model_id": "",
       "version_major": 2,
       "version_minor": 0
      },
      "text/plain": [
       "HBox(children=(FloatProgress(value=0.0, max=16.0), HTML(value='')))"
      ]
     },
     "metadata": {},
     "output_type": "display_data"
    },
    {
     "name": "stdout",
     "output_type": "stream",
     "text": [
      "\n",
      "Epoch - 6\n",
      "Training Results - Epoch: 6  Avg loss: 3.54\n",
      "Validation Results - Epoch: 6 Avg loss: 3.95\n"
     ]
    },
    {
     "data": {
      "application/vnd.jupyter.widget-view+json": {
       "model_id": "",
       "version_major": 2,
       "version_minor": 0
      },
      "text/plain": [
       "HBox(children=(FloatProgress(value=0.0, max=16.0), HTML(value='')))"
      ]
     },
     "metadata": {},
     "output_type": "display_data"
    },
    {
     "name": "stdout",
     "output_type": "stream",
     "text": [
      "\n",
      "Epoch - 7\n",
      "Training Results - Epoch: 7  Avg loss: 3.12\n",
      "Validation Results - Epoch: 7 Avg loss: 3.84\n"
     ]
    },
    {
     "data": {
      "application/vnd.jupyter.widget-view+json": {
       "model_id": "",
       "version_major": 2,
       "version_minor": 0
      },
      "text/plain": [
       "HBox(children=(FloatProgress(value=0.0, max=16.0), HTML(value='')))"
      ]
     },
     "metadata": {},
     "output_type": "display_data"
    },
    {
     "name": "stdout",
     "output_type": "stream",
     "text": [
      "\n",
      "Epoch - 8\n",
      "Training Results - Epoch: 8  Avg loss: 3.01\n",
      "Validation Results - Epoch: 8 Avg loss: 3.87\n"
     ]
    },
    {
     "data": {
      "application/vnd.jupyter.widget-view+json": {
       "model_id": "",
       "version_major": 2,
       "version_minor": 0
      },
      "text/plain": [
       "HBox(children=(FloatProgress(value=0.0, max=16.0), HTML(value='')))"
      ]
     },
     "metadata": {},
     "output_type": "display_data"
    },
    {
     "name": "stdout",
     "output_type": "stream",
     "text": [
      "\n",
      "Epoch - 9\n",
      "Training Results - Epoch: 9  Avg loss: 2.93\n",
      "Validation Results - Epoch: 9 Avg loss: 3.81\n"
     ]
    },
    {
     "data": {
      "application/vnd.jupyter.widget-view+json": {
       "model_id": "",
       "version_major": 2,
       "version_minor": 0
      },
      "text/plain": [
       "HBox(children=(FloatProgress(value=0.0, max=16.0), HTML(value='')))"
      ]
     },
     "metadata": {},
     "output_type": "display_data"
    },
    {
     "name": "stdout",
     "output_type": "stream",
     "text": [
      "\n",
      "Epoch - 10\n",
      "Training Results - Epoch: 10  Avg loss: 2.85\n",
      "Validation Results - Epoch: 10 Avg loss: 3.74\n"
     ]
    },
    {
     "data": {
      "text/html": [
       "<table>\n",
       "<tbody>\n",
       "<tr><td>Num params             </td><td style=\"text-align: right;\">12500    </td></tr>\n",
       "<tr><td>Minimum train loss     </td><td style=\"text-align: right;\">    2.854</td></tr>\n",
       "<tr><td>Mean validation time   </td><td style=\"text-align: right;\">    0.091</td></tr>\n",
       "<tr><td>Minimum validation loss</td><td style=\"text-align: right;\">    3.741</td></tr>\n",
       "</tbody>\n",
       "</table>"
      ],
      "text/plain": [
       "<IPython.core.display.HTML object>"
      ]
     },
     "metadata": {},
     "output_type": "display_data"
    }
   ],
   "source": [
    "# Then we train and evaluate\n",
    "out = ss_utils.train_neural_network(train_df, val_df, \"smiles\", \n",
    "                                    \"measured log solubility in mols per litre\", transform_seq_model, cnn_model)\n",
    "\n",
    "# And then we print out as a table some of the results.\n",
    "display(HTML(tabulate.tabulate(out['out_table'], tablefmt=\"html\")))"
   ]
  },
  {
   "cell_type": "code",
   "execution_count": 38,
   "metadata": {},
   "outputs": [
    {
     "data": {
      "text/html": [
       "\n",
       "<div id=\"altair-viz-86e9a0f166fe4669897442aa5df1af49\"></div>\n",
       "<script type=\"text/javascript\">\n",
       "  (function(spec, embedOpt){\n",
       "    let outputDiv = document.currentScript.previousElementSibling;\n",
       "    if (outputDiv.id !== \"altair-viz-86e9a0f166fe4669897442aa5df1af49\") {\n",
       "      outputDiv = document.getElementById(\"altair-viz-86e9a0f166fe4669897442aa5df1af49\");\n",
       "    }\n",
       "    const paths = {\n",
       "      \"vega\": \"https://cdn.jsdelivr.net/npm//vega@5?noext\",\n",
       "      \"vega-lib\": \"https://cdn.jsdelivr.net/npm//vega-lib?noext\",\n",
       "      \"vega-lite\": \"https://cdn.jsdelivr.net/npm//vega-lite@4.8.1?noext\",\n",
       "      \"vega-embed\": \"https://cdn.jsdelivr.net/npm//vega-embed@6?noext\",\n",
       "    };\n",
       "\n",
       "    function loadScript(lib) {\n",
       "      return new Promise(function(resolve, reject) {\n",
       "        var s = document.createElement('script');\n",
       "        s.src = paths[lib];\n",
       "        s.async = true;\n",
       "        s.onload = () => resolve(paths[lib]);\n",
       "        s.onerror = () => reject(`Error loading script: ${paths[lib]}`);\n",
       "        document.getElementsByTagName(\"head\")[0].appendChild(s);\n",
       "      });\n",
       "    }\n",
       "\n",
       "    function showError(err) {\n",
       "      outputDiv.innerHTML = `<div class=\"error\" style=\"color:red;\">${err}</div>`;\n",
       "      throw err;\n",
       "    }\n",
       "\n",
       "    function displayChart(vegaEmbed) {\n",
       "      vegaEmbed(outputDiv, spec, embedOpt)\n",
       "        .catch(err => showError(`Javascript Error: ${err.message}<br>This usually means there's a typo in your chart specification. See the javascript console for the full traceback.`));\n",
       "    }\n",
       "\n",
       "    if(typeof define === \"function\" && define.amd) {\n",
       "      requirejs.config({paths});\n",
       "      require([\"vega-embed\"], displayChart, err => showError(`Error loading script: ${err.message}`));\n",
       "    } else if (typeof vegaEmbed === \"function\") {\n",
       "      displayChart(vegaEmbed);\n",
       "    } else {\n",
       "      loadScript(\"vega\")\n",
       "        .then(() => loadScript(\"vega-lite\"))\n",
       "        .then(() => loadScript(\"vega-embed\"))\n",
       "        .catch(showError)\n",
       "        .then(() => displayChart(vegaEmbed));\n",
       "    }\n",
       "  })({\"config\": {\"view\": {\"continuousWidth\": 400, \"continuousHeight\": 300}}, \"layer\": [{\"mark\": {\"type\": \"line\", \"interpolate\": \"basis\"}, \"encoding\": {\"color\": {\"type\": \"nominal\", \"field\": \"category\"}, \"x\": {\"type\": \"quantitative\", \"field\": \"epoch\"}, \"y\": {\"type\": \"quantitative\", \"field\": \"loss\"}}}, {\"mark\": \"point\", \"encoding\": {\"opacity\": {\"value\": 0}, \"x\": {\"type\": \"quantitative\", \"field\": \"epoch\"}}, \"selection\": {\"selector003\": {\"type\": \"single\", \"nearest\": true, \"on\": \"mouseover\", \"fields\": [\"epoch\"], \"empty\": \"none\"}}}, {\"mark\": \"point\", \"encoding\": {\"color\": {\"type\": \"nominal\", \"field\": \"category\"}, \"opacity\": {\"condition\": {\"value\": 1, \"selection\": \"selector003\"}, \"value\": 0}, \"x\": {\"type\": \"quantitative\", \"field\": \"epoch\"}, \"y\": {\"type\": \"quantitative\", \"field\": \"loss\"}}}, {\"mark\": {\"type\": \"rule\", \"color\": \"gray\"}, \"encoding\": {\"x\": {\"type\": \"quantitative\", \"field\": \"epoch\"}}, \"transform\": [{\"filter\": {\"selection\": \"selector003\"}}]}, {\"mark\": {\"type\": \"text\", \"align\": \"left\", \"dx\": 5, \"dy\": -5}, \"encoding\": {\"color\": {\"type\": \"nominal\", \"field\": \"category\"}, \"text\": {\"condition\": {\"type\": \"quantitative\", \"field\": \"loss\", \"selection\": \"selector003\"}, \"value\": \" \"}, \"x\": {\"type\": \"quantitative\", \"field\": \"epoch\"}, \"y\": {\"type\": \"quantitative\", \"field\": \"loss\"}}}], \"data\": {\"name\": \"data-0299920d2063321e60ada8d36c2eeb7e\"}, \"height\": 300, \"width\": 600, \"$schema\": \"https://vega.github.io/schema/vega-lite/v4.8.1.json\", \"datasets\": {\"data-0299920d2063321e60ada8d36c2eeb7e\": [{\"epoch\": 0, \"category\": \"train_loss\", \"loss\": 14.596777022354246}, {\"epoch\": 1, \"category\": \"train_loss\", \"loss\": 12.826076695299523}, {\"epoch\": 2, \"category\": \"train_loss\", \"loss\": 10.989150174959438}, {\"epoch\": 3, \"category\": \"train_loss\", \"loss\": 8.84815471378837}, {\"epoch\": 4, \"category\": \"train_loss\", \"loss\": 6.6296683709452475}, {\"epoch\": 5, \"category\": \"train_loss\", \"loss\": 4.673396968466091}, {\"epoch\": 6, \"category\": \"train_loss\", \"loss\": 3.53717429806867}, {\"epoch\": 7, \"category\": \"train_loss\", \"loss\": 3.1167362487222268}, {\"epoch\": 8, \"category\": \"train_loss\", \"loss\": 3.007960833902434}, {\"epoch\": 9, \"category\": \"train_loss\", \"loss\": 2.9308668027712605}, {\"epoch\": 10, \"category\": \"train_loss\", \"loss\": 2.854173279184056}, {\"epoch\": 0, \"category\": \"val_loss\", \"loss\": 12.325360298156738}, {\"epoch\": 1, \"category\": \"val_loss\", \"loss\": 10.86166000366211}, {\"epoch\": 2, \"category\": \"val_loss\", \"loss\": 9.37128734588623}, {\"epoch\": 3, \"category\": \"val_loss\", \"loss\": 7.676832675933838}, {\"epoch\": 4, \"category\": \"val_loss\", \"loss\": 5.9865297589983255}, {\"epoch\": 5, \"category\": \"val_loss\", \"loss\": 4.605238165174212}, {\"epoch\": 6, \"category\": \"val_loss\", \"loss\": 3.9454992158072337}, {\"epoch\": 7, \"category\": \"val_loss\", \"loss\": 3.839890616280692}, {\"epoch\": 8, \"category\": \"val_loss\", \"loss\": 3.8704521315438405}, {\"epoch\": 9, \"category\": \"val_loss\", \"loss\": 3.8125976153782437}, {\"epoch\": 10, \"category\": \"val_loss\", \"loss\": 3.740634032658168}]}}, {\"mode\": \"vega-lite\"});\n",
       "</script>"
      ],
      "text/plain": [
       "alt.LayerChart(...)"
      ]
     },
     "execution_count": 38,
     "metadata": {},
     "output_type": "execute_result"
    },
    {
     "data": {
      "image/png": "[encoded data removed]",
      "text/plain": [
       "<Figure size 432x288 with 1 Axes>"
      ]
     },
     "metadata": {
      "needs_background": "light"
     },
     "output_type": "display_data"
    }
   ],
   "source": [
    "# and we can plot the loss curves:\n",
    "\n",
    "ss_utils.plot_train_and_val_using_mpl(out['train_loss_list'], out['val_lost_list'])\n",
    "\n",
    "ss_utils.plot_train_and_val_using_altair(out['train_loss_list'], out['val_lost_list'])\n"
   ]
  },
  {
   "cell_type": "markdown",
   "metadata": {},
   "source": [
    "What pooling operation works best? How does performance in terms of loss, number of parameters and timings compare to the RNN? Does adding additional convolutional layers change this?\n"
   ]
  },
  {
   "cell_type": "markdown",
   "metadata": {},
   "source": [
    "🕰  **(optional) Task C -- Augmented Sequences:** Earlier in this notebook we discussed how each molecule corresponds to many SMILES strings. However, in this section we have only fed into the networks one of the possible SMILES strings for each molecule. Consider training the sequence models in this section on an augmented dataset (i.e. create a transform that randomly chooses a different SMILES representation each time it is called), and see how this affects the final models performance. You can also implement a method to pool predictions made using the different SMILES representations at inference time. Bjerrum (2017) explores this idea. Do you obtain similar results? \n",
    "\n",
    "🕰  **(optional) Task D -- Symbol Embeddings:**  We fed in as features to the RNN/CNNs one hot encodings of each symbol. Consider using [learnt embeddings instead](https://pytorch.org/docs/stable/generated/torch.nn.Embedding.html) (the `nn.Embedding` class may be useful here). How does this affect performance? How many extra parameters does this result in? How does this modification compare to just adding an additional layer to your network and why?  \n",
    "Furthermore, as an additional related extension, can you group together some of the current symbols to reduce sequence sizes and the number of embeddings needed (i.e. currently we represent bromine as 'B' 'r' can you instead ensure it is kept as one symbol 'Br')? You may find the following regex (taken from Schwaller et al. (2019)) useful:  \n",
    "`\"(\\[[^\\]]+]|Br?|Cl?|N|O|S|P|F|I|b|c|n|o|s|p|\\(|\\)|\\.|=|#|-|\\+|\\\\\\\\|\\/|:|~|@|\\?|>|\\*|\\$|\\%[0-9]{2}|[0-9])\"`\n",
    "\n",
    "\n",
    "\n",
    "### 3.4 Graph Neural Networks\n",
    "\n",
    "The final model we will consider here is a basic graph neural network. \n",
    "\n",
    "As you saw in Section 2 of this notebook, graphs require several tensors to represent them. Therefore, we will begin by creating a datastructure to keep these tensors together as well as to allow the easy batching of several graphs together (so that we can train our network using minibatches). We will then go on to creating the network itself before trying it out on the same small solubility dataset that the other methods have been running on.\n",
    "\n",
    "\n",
    "🧪   **Task 8:** Complete the `Graph` class below. To be more specific, you need to fill in the class method, `concatenate`, that given a list of individual graphs returns a new instance of the class with them all batched together. \n",
    "\n"
   ]
  },
  {
   "cell_type": "code",
   "execution_count": 39,
   "metadata": {},
   "outputs": [
    {
     "name": "stdout",
     "output_type": "stream",
     "text": [
      "graph_of_both.node_features:\n",
      "tensor([[0., 0., 0., 0., 0., 0., 0., 0., 0., 0., 1., 0., 0., 0., 0., 0., 0., 0.,\n",
      "         0., 0., 0., 0., 0., 0., 0., 0., 0., 0., 0., 0., 0., 0., 0., 0., 0., 0.,\n",
      "         0., 0., 0., 0., 0., 0., 0., 0., 0., 0., 0., 0., 0., 0., 0., 0., 0., 0.,\n",
      "         0., 0., 0., 0., 0., 0., 0., 0., 0., 0., 0., 0., 0., 0., 0., 0., 0., 0.],\n",
      "        [0., 0., 0., 0., 0., 0., 0., 0., 0., 0., 1., 0., 0., 0., 0., 0., 0., 0.,\n",
      "         0., 0., 0., 0., 0., 0., 0., 0., 0., 0., 0., 0., 0., 0., 0., 0., 0., 0.,\n",
      "         0., 0., 0., 0., 0., 0., 0., 0., 0., 0., 0., 0., 0., 0., 0., 0., 0., 0.,\n",
      "         0., 0., 0., 0., 0., 0., 0., 0., 0., 0., 0., 0., 0., 0., 0., 0., 0., 0.],\n",
      "        [0., 0., 0., 0., 0., 0., 0., 0., 0., 0., 0., 0., 0., 0., 0., 0., 0., 0.,\n",
      "         0., 0., 0., 0., 0., 0., 0., 0., 0., 0., 0., 0., 0., 0., 0., 0., 0., 0.,\n",
      "         0., 0., 0., 0., 0., 0., 1., 0., 0., 0., 0., 0., 0., 0., 0., 0., 0., 0.,\n",
      "         0., 0., 0., 0., 0., 0., 0., 0., 0., 0., 0., 0., 0., 0., 0., 0., 0., 0.],\n",
      "        [0., 0., 0., 0., 0., 0., 0., 0., 0., 0., 1., 0., 0., 0., 0., 0., 0., 0.,\n",
      "         0., 0., 0., 0., 0., 0., 0., 0., 0., 0., 0., 0., 0., 0., 0., 0., 0., 0.,\n",
      "         0., 0., 0., 0., 0., 0., 0., 0., 0., 0., 0., 0., 0., 0., 0., 0., 0., 0.,\n",
      "         0., 0., 0., 0., 0., 0., 0., 0., 0., 0., 0., 0., 0., 0., 0., 0., 0., 0.],\n",
      "        [0., 0., 0., 0., 0., 0., 0., 0., 0., 0., 1., 0., 0., 0., 0., 0., 0., 0.,\n",
      "         0., 0., 0., 0., 0., 0., 0., 0., 0., 0., 0., 0., 0., 0., 0., 0., 0., 0.,\n",
      "         0., 0., 0., 0., 0., 0., 0., 0., 0., 0., 0., 0., 0., 0., 0., 0., 0., 0.,\n",
      "         0., 0., 0., 0., 0., 0., 0., 0., 0., 0., 0., 0., 0., 0., 0., 0., 0., 0.],\n",
      "        [0., 0., 0., 0., 0., 0., 0., 0., 0., 0., 1., 0., 0., 0., 0., 0., 0., 0.,\n",
      "         0., 0., 0., 0., 0., 0., 0., 0., 0., 0., 0., 0., 0., 0., 0., 0., 0., 0.,\n",
      "         0., 0., 0., 0., 0., 0., 0., 0., 0., 0., 0., 0., 0., 0., 0., 0., 0., 0.,\n",
      "         0., 0., 0., 0., 0., 0., 0., 0., 0., 0., 0., 0., 0., 0., 0., 0., 0., 0.]])\n",
      "\n",
      "\n",
      "graph_of_both.edge_list:\n",
      "tensor([[0, 1],\n",
      "        [1, 0],\n",
      "        [1, 2],\n",
      "        [2, 1],\n",
      "        [1, 3],\n",
      "        [3, 1],\n",
      "        [4, 5],\n",
      "        [5, 4]])\n",
      "\n",
      "\n",
      "graph_of_both.edge_features:\n",
      "tensor([[1., 0., 0., 0.],\n",
      "        [1., 0., 0., 0.],\n",
      "        [0., 0., 1., 0.],\n",
      "        [0., 0., 1., 0.],\n",
      "        [1., 0., 0., 0.],\n",
      "        [1., 0., 0., 0.],\n",
      "        [1., 0., 0., 0.],\n",
      "        [1., 0., 0., 0.]])\n",
      "\n",
      "\n",
      "graph_of_both.node_to_graph_id:\n",
      "tensor([0, 0, 0, 0, 1, 1])\n",
      "\n",
      "\n"
     ]
    }
   ],
   "source": [
    "class Graphs:\n",
    "    ATOM_FEATURIZER = SymbolFeaturizer(['Ag', 'Al', 'Ar', 'As', 'Au', 'B', 'Ba', 'Be', 'Bi', 'Br', 'C',\n",
    "                    'Ca', 'Cd', 'Ce', 'Cl', 'Co', 'Cr', 'Cs', 'Cu', 'Dy', 'Eu', 'F',\n",
    "                    'Fe', 'Ga', 'Ge', 'H', 'He', 'Hf', 'Hg', 'I', 'In', 'Ir', 'K', 'La',\n",
    "                    'Li', 'Mg', 'Mn', 'Mo', 'N', 'Na', 'Nd', 'Ni', 'O', 'Os', 'P', 'Pb',\n",
    "                    'Pd', 'Pr', 'Pt', 'Rb', 'Re', 'Rh', 'Ru', 'S', 'Sb', 'Sc', 'Se',\n",
    "                    'Si', 'Sm', 'Sn', 'Sr', 'Ta', 'Te', 'Ti', 'Tl', 'V', 'W', 'Xe', 'Y',\n",
    "                    'Yb', 'Zn', 'Zr'])\n",
    "    # ^ you can change the number of symbols here to play with the dimensionality,\n",
    "    # we only need to have the symbols: ['Br', 'C', 'Cl', 'F', 'I', 'N', 'O', 'P', 'S']\n",
    "\n",
    "    BOND_FEATURIZER = SymbolFeaturizer([1., 1.5, 2., 3.])  \n",
    "    # ^ single, aromatic, double and triple bonds (see earlier how RDKit represents these as doubles.)\n",
    "    \n",
    "    def __init__(self, node_features: torch.Tensor, \n",
    "                 edge_list: torch.Tensor, edge_features: torch.Tensor, node_to_graph_id: torch.Tensor):\n",
    "        \"\"\"\n",
    "        A graph datastructure which groups together the series of tensors that represent the\n",
    "        graph. Note that this datastructure also holds multiple molecule graphs as one large \n",
    "        disconnected graph -- the nodes belonging to each molecule are described by node_to_graph_id.\n",
    "        \n",
    "        ## Further details on the individual tensors\n",
    "        Say this graph represents acetone, CC(=O)C, and ethane, CC, and we're using a simple \n",
    "        three dimensional one-hot encoding for 'C', 'O' and 'N' and a simple two dimensional\n",
    "        one-hot encoding for the bonds 'SINGLE', 'DOUBLE' then the resulting tensors would look\n",
    "        like:\n",
    "        node_features = [[1. 0. 0.], \n",
    "                         [1. 0. 0.], \n",
    "                         [0. 1. 0.], \n",
    "                         [1. 0. 0.],\n",
    "                         [1. 0. 0.],\n",
    "                         [1. 0. 0.]]\n",
    "        edge_list = [[0 1],\n",
    "                     [1 0],\n",
    "                     [1 2],\n",
    "                     [2 1],\n",
    "                     [1 3],\n",
    "                     [3 1],\n",
    "                     [4 5],\n",
    "                     [5 4]]\n",
    "                     \n",
    "        edge_features = [[1. 0.],\n",
    "                         [1. 0.],\n",
    "                         [0. 1.],\n",
    "                         [0. 1.],\n",
    "                         [1. 0.],\n",
    "                         [1. 0.],\n",
    "                         [1. 0.],\n",
    "                         [1. 0.]]\n",
    "                         \n",
    "        node_to_graph_id = [0 0 0 0 1 1]\n",
    "        \n",
    "                         \n",
    "        More generally we expect the different tensors to have the following datatypes and shapes\n",
    "        (below N is number of nodes, E number of edges, h_n the feature dimensionality of node\n",
    "        features and h_e the feature dimensionality of edge features):\n",
    "        \n",
    "        :param node_features: Tensor (dtype float32 , shape [N, h_n])\n",
    "        :param edge_list: Tensor (dtype int64 , shape [E, 2])\n",
    "        :param edge_features: Tensor (dtype float32 , shape [E, h_e])\n",
    "        :param node_to_graph_id: Tensor (dtype int64 , shape [N]) this contains for each node\n",
    "           the associated graph it belongs to. So for instance if this Graph datastructure \n",
    "           represented only one graph this should be all zeros, however if two then it should be\n",
    "           zeros for the nodes corresponding to the first graph and then 1s for the second graph.\n",
    "           Graph ids should start at one and consist of consectutive integers.\n",
    "        \"\"\"\n",
    "        self.node_features = node_features\n",
    "        self.edge_list = edge_list\n",
    "        self.edge_features = edge_features\n",
    "        self.node_to_graph_id = node_to_graph_id\n",
    "        \n",
    "    def to(self, *args, **kwargs):\n",
    "        \"\"\"\n",
    "        Works in a similar way to the Tensor function torch.Tensor.to(...)\n",
    "        and performs  dtype and/or device conversion for the entire datastructure\n",
    "        \"\"\"\n",
    "        new_graph = type(self)(self.node_features.to(*args, **kwargs),\n",
    "                               self.edge_list.to(*args, **kwargs),\n",
    "                               self.edge_features.to(*args, **kwargs),\n",
    "                               self.node_to_graph_id.to(*args, **kwargs)\n",
    "                              )\n",
    "        return new_graph\n",
    "    \n",
    "    @classmethod\n",
    "    def from_smiles_string(cls, smiles_str: str):\n",
    "        \"\"\"\n",
    "        Converts a SMILES string into the representation required by this datastructure.\n",
    "        Making use of the code you wrote in Section 2!\n",
    "        \"\"\"\n",
    "        # Convert to form we need using previous code:\n",
    "        mol = Chem.MolFromSmiles(smiles_str)\n",
    "        node_features, edge_list, edge_features = mol_to_edge_list_graph(mol, cls.ATOM_FEATURIZER)\n",
    "        edge_features = [cls.BOND_FEATURIZER(elem) for elem in edge_features]\n",
    "        # ^ nb here we're converting the edge feature list into one-hot form\n",
    "        \n",
    "        # Convert to tensors:\n",
    "        node_features = torch.tensor(node_features, dtype=torch.float32)\n",
    "        edge_list = torch.tensor(edge_list, dtype=torch.int64)\n",
    "        edge_features = torch.tensor(edge_features, dtype=torch.float32)\n",
    "        node_to_graph_id = torch.zeros(node_features.shape[0], dtype=torch.int64)\n",
    "        # ^we only (currently) have one molecule per SMILES so all the nodes can be assigned \n",
    "        # the same id\n",
    "        \n",
    "        return cls(node_features, edge_list, edge_features, node_to_graph_id)\n",
    "    \n",
    "    @property\n",
    "    def num_graphs(self):\n",
    "        return torch.unique(self.node_to_graph_id).shape[0]\n",
    "    \n",
    "    @classmethod\n",
    "    def concatenate(cls, list_of_graphs):\n",
    "        \"\"\"\n",
    "        This takes in a list of objects of this class and joins them to form one large disconnected graph.\n",
    "        \n",
    "        For instance say we have two individual `Graphs` instances, one for acetone (CC(=O)C) and one for \n",
    "        ethane (CC) they might look like this (in pseudocode -- note also in practice are one-hot encoding\n",
    "        is larger):\n",
    "        acetone = Graphs(\n",
    "            node_features = [[1. 0. 0.], \n",
    "                             [1. 0. 0.], \n",
    "                             [0. 1. 0.], \n",
    "                             [1. 0. 0.]]\n",
    "            edge_list = [[0 1],\n",
    "                         [1 0],\n",
    "                         [1 2],\n",
    "                         [2 1],\n",
    "                         [1 3],\n",
    "                         [3 1]]\n",
    "            edge_features = [[1. 0.],\n",
    "                             [1. 0.],\n",
    "                             [0. 1.],\n",
    "                             [0. 1.],\n",
    "                             [1. 0.],\n",
    "                             [1. 0.]]\n",
    "            node_to_graph_id = [0 0 0 0]            \n",
    "        )\n",
    "        \n",
    "        ethane = Graphs(\n",
    "            node_features = [[1. 0. 0.], \n",
    "                             [1. 0. 0.]]\n",
    "            edge_list = [[0 1],\n",
    "                         [1 0]]\n",
    "            edge_features = [[1. 0.],\n",
    "                             [1. 0.]]\n",
    "            node_to_graph_id = [0 0]            \n",
    "        )\n",
    "        \n",
    "        and this function would transform them into one large disconnected graph\n",
    "        minibatch_of_graphs = Graphs(\n",
    "                node_features = [[1. 0. 0.], \n",
    "                                 [1. 0. 0.], \n",
    "                                 [0. 1. 0.], \n",
    "                                 [1. 0. 0.],\n",
    "                                 [1. 0. 0.],\n",
    "                                 [1. 0. 0.]]\n",
    "                edge_list = [[0 1],\n",
    "                             [1 0],\n",
    "                             [1 2],\n",
    "                             [2 1],\n",
    "                             [1 3],\n",
    "                             [3 1],\n",
    "                             [4 5],\n",
    "                             [5 4]]\n",
    "                edge_features = [[1. 0.],\n",
    "                                 [1. 0.],\n",
    "                                 [0. 1.],\n",
    "                                 [0. 1.],\n",
    "                                 [1. 0.],\n",
    "                                 [1. 0.],\n",
    "                                 [1. 0.],\n",
    "                                 [1. 0.]]\n",
    "                node_to_graph_id = [0 0 0 0 1 1]\n",
    "                )\n",
    "        \"\"\"\n",
    "        # node features and edge_features simply get concatenated\n",
    "        new_node_features = torch.cat([e.node_features for e in list_of_graphs], dim=0)\n",
    "        new_edge_features = torch.cat([e.edge_features for e in list_of_graphs], dim=0)\n",
    "        \n",
    "        # edge_list and node\n",
    "        new_edge_lists = []\n",
    "        new_node_ids = []\n",
    "        num_nodes_seen_so_far = 0\n",
    "        num_graphs_so_far = 0\n",
    "        for graph in list_of_graphs:\n",
    "            new_edge_lists.append(graph.edge_list + num_nodes_seen_so_far)\n",
    "            # ^ shift up the edges to reflect the nodes new indices\n",
    "            \n",
    "            new_node_ids.append(graph.node_to_graph_id + num_graphs_so_far)\n",
    "            # ^shift up the node to graph id to reflect the number of graphs before\n",
    "            \n",
    "            num_nodes_seen_so_far += graph.node_features.shape[0]\n",
    "            num_graphs_so_far +=  torch.unique(graph.node_to_graph_id).shape[0]\n",
    "        \n",
    "        new_edge_lists = torch.cat(new_edge_lists, dim=0)\n",
    "        new_new_node_ids = torch.cat(new_node_ids, dim=0)\n",
    "        \n",
    "        new_concatenated_graph = cls(node_features=new_node_features,\n",
    "                                     edge_list=new_edge_lists,\n",
    "                                     edge_features=new_edge_features,\n",
    "                                     node_to_graph_id=new_new_node_ids)\n",
    "        return new_concatenated_graph\n",
    "    \n",
    "    \n",
    "# We're now going to create an instance of this class and test the concatenate function\n",
    "# (you could also write a reverse function if you wanted to be sure your code worked correctly)\n",
    "acetone_g = Graphs.from_smiles_string('CC(=O)C')\n",
    "ethane_g = Graphs.from_smiles_string('CC')        \n",
    "    \n",
    "graph_of_both = Graphs.concatenate([acetone_g, ethane_g])\n",
    "print(f\"graph_of_both.node_features:\\n{graph_of_both.node_features}\\n\\n\")\n",
    "print(f\"graph_of_both.edge_list:\\n{graph_of_both.edge_list}\\n\\n\")\n",
    "print(f\"graph_of_both.edge_features:\\n{graph_of_both.edge_features}\\n\\n\")\n",
    "print(f\"graph_of_both.node_to_graph_id:\\n{graph_of_both.node_to_graph_id}\\n\\n\")"
   ]
  },
  {
   "cell_type": "markdown",
   "metadata": {},
   "source": [
    "Having created the `Graphs` datastructure we can now create our graph neural network (GNN) which gets fed in the `Graphs` class as input. At a high level, the GNN consists of a series of message passing steps, which update the node features. After computing richer node features in this manner, a graph-level representation is computed through a weighted sum of the node features, in a process described as an aggregation transformation (Johnson, 2017) (also often called a readout step (Gilmer et al.,2017)). Finally, this graph-level representation is projected down by a linear transform to predict the solubility property score.\n",
    "\n",
    "We are going to base the specifics of our GNN implementation on Gated Graph Neural Networks (Li et al., 2015), with the update function performed using a GRU. We will ignore implementing a global state or distinguishing the messages based on edge type -- these will be left as possible extensions to you! To be more specific, the node representations $\\mathbf{m}_v^t$ for node $v$ at propagation step $t$ will be updated by:  \n",
    "\n",
    "\\begin{array}\n",
    " \\mathbf{m}_v^{t} = \\textrm{GRU}(\\sum_{j \\in \\mathcal{N}(v)} \\mathbf{W} \\mathbf{m}_j^{t-1}, \\mathbf{m}_v^{t-1}), \\tag{1}\n",
    "\\end{array} \n",
    "\n",
    "where $W$ is a learnt weight matrix, $\\mathcal{N}(v)$ denotes the neighbour nodes of $v$, and $\\textrm{GRU}$ refers to a Gated Recurrent Unit RNN (Cho et al., 2014). $\\mathbf{m}_v^0$ will be set as the one-hot encodings of the atom type and we will proceed for $T$ iterations. Pictorially this process is shown below:\n",
    "\n",
    "<img src=\"https://raw.githubusercontent.com/john-bradshaw/ml-in-bioinformatics-summer-school-2020/master/imgs/mpnn.svg\" width=\"850px\" />\n",
    "\n",
    "\n",
    "\n",
    "We compute a graph level embedding, $\\mathbf{g}$, for graph $\\mathcal{G}$ through the aggregation function as follows (altogether this can be thought of as a learnable fingerprint function):  \n",
    "\n",
    "\\begin{array}\n",
    "\\mathbf{g} = \\sum_{v \\in \\mathcal{G}} \\sigma\\left(f_\\textrm{attn}(\\mathbf{m}_v^T)\\right) f_\\textrm{proj}(\\mathbf{m}_v^T), \\tag{2}\n",
    "\\end{array}\n",
    "\n",
    "where $\\sigma(\\cdot)$ is the sigmoid function, and $f_\\textrm{attn}(\\cdot)$ and $f_\\textrm{proj}(\\cdot)$ are two linear projections; the sum is over all of the nodes (i.e. atoms) in the graph. Pictorially this looks like:\n",
    "\n",
    "<img src=\"https://raw.githubusercontent.com/john-bradshaw/ml-in-bioinformatics-summer-school-2020/master/imgs/mpnn_aggr.svg\" width=\"850px\" />\n",
    "\n",
    "\n",
    "🧪   **Task 9:** Fill in the missing code in the GNN implmentation below. You can see the missing pieces from the comments."
   ]
  },
  {
   "cell_type": "code",
   "execution_count": 40,
   "metadata": {},
   "outputs": [],
   "source": [
    "class GNN(nn.Module):\n",
    "    def __init__(self, node_feature_dimension, num_propagation_steps:int =4):\n",
    "        super().__init__()\n",
    "        \n",
    "        self.num_propagation_steps = num_propagation_steps\n",
    "        # called T above.\n",
    "        \n",
    "        # Our sub modules:\n",
    "        self.message_projection = nn.Linear(node_feature_dimension, node_feature_dimension, bias=False)\n",
    "        self.update_gru = nn.GRUCell(input_size=node_feature_dimension,\n",
    "                                     hidden_size=node_feature_dimension, bias=True)\n",
    "        self.attn_net = nn.Linear(node_feature_dimension, 1)\n",
    "        self.proj_net = nn.Linear(node_feature_dimension, node_feature_dimension)\n",
    "        self.final_lin = nn.Linear(node_feature_dimension, 1)\n",
    "        \n",
    "    def forward(self, graphs_in: Graphs):\n",
    "        \"\"\"\n",
    "        Produces a column vector of predictions, with each element in this vector a prediction\n",
    "        for each marked graph in `graphs_in`.\n",
    "        \n",
    "        In the comments below N is the number of nodes in graph_in (across all graphs), \n",
    "        d the feature dimension, and G is the number of individual molecular graphs.        \n",
    "        \"\"\"\n",
    "        # 1. Message passing and updating\n",
    "        m = graphs_in.node_features  # shape: [N, d]\n",
    "        \n",
    "        for t in range(self.num_propagation_steps):\n",
    "            projs = self.message_projection(m)  # [N, d]\n",
    "            \n",
    "            # Update the node embeddings (eqn 1 above)\n",
    "            # 1a. compute the sum for each node\n",
    "            msgs = torch.zeros_like(m)  # [N, d]\n",
    "            msgs.index_add_(0, graphs_in.edge_list[:, 0], projs.index_select(0, graphs_in.edge_list[:, 1]))\n",
    "            \n",
    "            # 1b. update the embeddings via GRU cell\n",
    "            m = self.update_gru(msgs, m)  # [N, d]\n",
    "            \n",
    "            \n",
    "        # 2. Aggregation (eqn 2 above)\n",
    "        # a compute weighted embeddings\n",
    "        attn_coeffs = torch.sigmoid(self.attn_net(m))  # [N, 1]\n",
    "        proj_embeddings = self.proj_net(m)  # [N, d']\n",
    "        weighted_embeddings = attn_coeffs * proj_embeddings\n",
    "        \n",
    "        # perform the sum\n",
    "        graph_embedding = torch.zeros(graphs_in.num_graphs, weighted_embeddings.shape[1],\n",
    "                                 device=m.device, dtype=m.dtype)  \n",
    "        graph_embedding.index_add_(0, graphs_in.node_to_graph_id, weighted_embeddings)  # [G, d']\n",
    "        \n",
    "        # 3. Final linear projection.\n",
    "        final_prediction = self.final_lin(graph_embedding)  # [G, 1]\n",
    "        return final_prediction\n",
    "    \n",
    "    \n",
    "gnn = GNN(len(Graphs.ATOM_FEATURIZER.indx2atm))"
   ]
  },
  {
   "cell_type": "markdown",
   "metadata": {},
   "source": [
    "Before we can run our training loop with our new model we need to tell the PyTorch `Dataloader` (used in `ss_utils`) how to collate the graphs together when forming minibatches (the main machinery of how this happens you have already written in task 7 above). "
   ]
  },
  {
   "cell_type": "code",
   "execution_count": 41,
   "metadata": {},
   "outputs": [],
   "source": [
    "def collate_for_graphs(batch):\n",
    "    \"\"\"\n",
    "    This is a custom collate function for use minibatches of graphs along with their regression value.\n",
    "    It ensures that we concatenate graphs correctly.\n",
    "    \n",
    "    Look at ss_utils to see how this gets used.\n",
    "    \"\"\"\n",
    "    # Split up the graphs and the y values\n",
    "    list_of_graphs, list_of_targets = zip(*batch)\n",
    "    list_of_graphs = list(list_of_graphs)\n",
    "    list_of_targets = list(list_of_targets)\n",
    "    \n",
    "    # The graphs need to be concatenated (i.e. collated) using the function you wrote\n",
    "    graphs = Graphs.concatenate(list_of_graphs)\n",
    "    \n",
    "    # The y values can use the default collate function as before.\n",
    "    targets = data.dataloader.default_collate(list_of_targets)\n",
    "    \n",
    "    return graphs, targets"
   ]
  },
  {
   "cell_type": "markdown",
   "metadata": {},
   "source": [
    "And now we can train!"
   ]
  },
  {
   "cell_type": "code",
   "execution_count": 42,
   "metadata": {},
   "outputs": [
    {
     "name": "stdout",
     "output_type": "stream",
     "text": [
      "Train dataset is of size 1016 and valid of size 112\n",
      "Epoch - 0\n",
      "Training Results - Epoch: 0  Avg loss: 11.98\n",
      "Validation Results - Epoch: 0 Avg loss: 10.20\n"
     ]
    },
    {
     "data": {
      "application/vnd.jupyter.widget-view+json": {
       "model_id": "",
       "version_major": 2,
       "version_minor": 0
      },
      "text/plain": [
       "HBox(children=(FloatProgress(value=0.0, max=16.0), HTML(value='')))"
      ]
     },
     "metadata": {},
     "output_type": "display_data"
    },
    {
     "name": "stdout",
     "output_type": "stream",
     "text": [
      "\n",
      "Epoch - 1\n",
      "Training Results - Epoch: 1  Avg loss: 3.43\n",
      "Validation Results - Epoch: 1 Avg loss: 3.66\n"
     ]
    },
    {
     "data": {
      "application/vnd.jupyter.widget-view+json": {
       "model_id": "",
       "version_major": 2,
       "version_minor": 0
      },
      "text/plain": [
       "HBox(children=(FloatProgress(value=0.0, max=16.0), HTML(value='')))"
      ]
     },
     "metadata": {},
     "output_type": "display_data"
    },
    {
     "name": "stdout",
     "output_type": "stream",
     "text": [
      "\n",
      "Epoch - 2\n",
      "Training Results - Epoch: 2  Avg loss: 2.89\n",
      "Validation Results - Epoch: 2 Avg loss: 3.34\n"
     ]
    },
    {
     "data": {
      "application/vnd.jupyter.widget-view+json": {
       "model_id": "",
       "version_major": 2,
       "version_minor": 0
      },
      "text/plain": [
       "HBox(children=(FloatProgress(value=0.0, max=16.0), HTML(value='')))"
      ]
     },
     "metadata": {},
     "output_type": "display_data"
    },
    {
     "name": "stdout",
     "output_type": "stream",
     "text": [
      "\n",
      "Epoch - 3\n",
      "Training Results - Epoch: 3  Avg loss: 2.46\n",
      "Validation Results - Epoch: 3 Avg loss: 2.92\n"
     ]
    },
    {
     "data": {
      "application/vnd.jupyter.widget-view+json": {
       "model_id": "",
       "version_major": 2,
       "version_minor": 0
      },
      "text/plain": [
       "HBox(children=(FloatProgress(value=0.0, max=16.0), HTML(value='')))"
      ]
     },
     "metadata": {},
     "output_type": "display_data"
    },
    {
     "name": "stdout",
     "output_type": "stream",
     "text": [
      "\n",
      "Epoch - 4\n",
      "Training Results - Epoch: 4  Avg loss: 2.09\n",
      "Validation Results - Epoch: 4 Avg loss: 2.10\n"
     ]
    },
    {
     "data": {
      "application/vnd.jupyter.widget-view+json": {
       "model_id": "",
       "version_major": 2,
       "version_minor": 0
      },
      "text/plain": [
       "HBox(children=(FloatProgress(value=0.0, max=16.0), HTML(value='')))"
      ]
     },
     "metadata": {},
     "output_type": "display_data"
    },
    {
     "name": "stdout",
     "output_type": "stream",
     "text": [
      "\n",
      "Epoch - 5\n",
      "Training Results - Epoch: 5  Avg loss: 1.41\n",
      "Validation Results - Epoch: 5 Avg loss: 1.85\n"
     ]
    },
    {
     "data": {
      "application/vnd.jupyter.widget-view+json": {
       "model_id": "",
       "version_major": 2,
       "version_minor": 0
      },
      "text/plain": [
       "HBox(children=(FloatProgress(value=0.0, max=16.0), HTML(value='')))"
      ]
     },
     "metadata": {},
     "output_type": "display_data"
    },
    {
     "name": "stdout",
     "output_type": "stream",
     "text": [
      "\n",
      "Epoch - 6\n",
      "Training Results - Epoch: 6  Avg loss: 1.39\n",
      "Validation Results - Epoch: 6 Avg loss: 1.78\n"
     ]
    },
    {
     "data": {
      "application/vnd.jupyter.widget-view+json": {
       "model_id": "",
       "version_major": 2,
       "version_minor": 0
      },
      "text/plain": [
       "HBox(children=(FloatProgress(value=0.0, max=16.0), HTML(value='')))"
      ]
     },
     "metadata": {},
     "output_type": "display_data"
    },
    {
     "name": "stdout",
     "output_type": "stream",
     "text": [
      "\n",
      "Epoch - 7\n",
      "Training Results - Epoch: 7  Avg loss: 1.28\n",
      "Validation Results - Epoch: 7 Avg loss: 1.65\n"
     ]
    },
    {
     "data": {
      "application/vnd.jupyter.widget-view+json": {
       "model_id": "",
       "version_major": 2,
       "version_minor": 0
      },
      "text/plain": [
       "HBox(children=(FloatProgress(value=0.0, max=16.0), HTML(value='')))"
      ]
     },
     "metadata": {},
     "output_type": "display_data"
    },
    {
     "name": "stdout",
     "output_type": "stream",
     "text": [
      "\n",
      "Epoch - 8\n",
      "Training Results - Epoch: 8  Avg loss: 1.27\n",
      "Validation Results - Epoch: 8 Avg loss: 1.75\n"
     ]
    },
    {
     "data": {
      "application/vnd.jupyter.widget-view+json": {
       "model_id": "",
       "version_major": 2,
       "version_minor": 0
      },
      "text/plain": [
       "HBox(children=(FloatProgress(value=0.0, max=16.0), HTML(value='')))"
      ]
     },
     "metadata": {},
     "output_type": "display_data"
    },
    {
     "name": "stdout",
     "output_type": "stream",
     "text": [
      "\n",
      "Epoch - 9\n",
      "Training Results - Epoch: 9  Avg loss: 1.18\n",
      "Validation Results - Epoch: 9 Avg loss: 1.65\n"
     ]
    },
    {
     "data": {
      "application/vnd.jupyter.widget-view+json": {
       "model_id": "",
       "version_major": 2,
       "version_minor": 0
      },
      "text/plain": [
       "HBox(children=(FloatProgress(value=0.0, max=16.0), HTML(value='')))"
      ]
     },
     "metadata": {},
     "output_type": "display_data"
    },
    {
     "name": "stdout",
     "output_type": "stream",
     "text": [
      "\n",
      "Epoch - 10\n",
      "Training Results - Epoch: 10  Avg loss: 1.22\n",
      "Validation Results - Epoch: 10 Avg loss: 1.70\n"
     ]
    },
    {
     "data": {
      "text/html": [
       "<table>\n",
       "<tbody>\n",
       "<tr><td>Num params             </td><td style=\"text-align: right;\">42100    </td></tr>\n",
       "<tr><td>Minimum train loss     </td><td style=\"text-align: right;\">    1.178</td></tr>\n",
       "<tr><td>Mean validation time   </td><td style=\"text-align: right;\">    0.17 </td></tr>\n",
       "<tr><td>Minimum validation loss</td><td style=\"text-align: right;\">    1.651</td></tr>\n",
       "</tbody>\n",
       "</table>"
      ],
      "text/plain": [
       "<IPython.core.display.HTML object>"
      ]
     },
     "metadata": {},
     "output_type": "display_data"
    }
   ],
   "source": [
    "# Then we train and evaluate\n",
    "out = ss_utils.train_neural_network(train_df, val_df, \"smiles\", \"measured log solubility in mols per litre\",\n",
    "                                    transform=Graphs.from_smiles_string, neural_network=gnn,\n",
    "                                   collate_func=collate_for_graphs)\n",
    "\n",
    "# And then we print out as a table some of the results.\n",
    "display(HTML(tabulate.tabulate(out['out_table'], tablefmt=\"html\")))"
   ]
  },
  {
   "cell_type": "code",
   "execution_count": 43,
   "metadata": {},
   "outputs": [
    {
     "data": {
      "text/html": [
       "\n",
       "<div id=\"altair-viz-4290e900f3e147c9a234557343e67141\"></div>\n",
       "<script type=\"text/javascript\">\n",
       "  (function(spec, embedOpt){\n",
       "    let outputDiv = document.currentScript.previousElementSibling;\n",
       "    if (outputDiv.id !== \"altair-viz-4290e900f3e147c9a234557343e67141\") {\n",
       "      outputDiv = document.getElementById(\"altair-viz-4290e900f3e147c9a234557343e67141\");\n",
       "    }\n",
       "    const paths = {\n",
       "      \"vega\": \"https://cdn.jsdelivr.net/npm//vega@5?noext\",\n",
       "      \"vega-lib\": \"https://cdn.jsdelivr.net/npm//vega-lib?noext\",\n",
       "      \"vega-lite\": \"https://cdn.jsdelivr.net/npm//vega-lite@4.8.1?noext\",\n",
       "      \"vega-embed\": \"https://cdn.jsdelivr.net/npm//vega-embed@6?noext\",\n",
       "    };\n",
       "\n",
       "    function loadScript(lib) {\n",
       "      return new Promise(function(resolve, reject) {\n",
       "        var s = document.createElement('script');\n",
       "        s.src = paths[lib];\n",
       "        s.async = true;\n",
       "        s.onload = () => resolve(paths[lib]);\n",
       "        s.onerror = () => reject(`Error loading script: ${paths[lib]}`);\n",
       "        document.getElementsByTagName(\"head\")[0].appendChild(s);\n",
       "      });\n",
       "    }\n",
       "\n",
       "    function showError(err) {\n",
       "      outputDiv.innerHTML = `<div class=\"error\" style=\"color:red;\">${err}</div>`;\n",
       "      throw err;\n",
       "    }\n",
       "\n",
       "    function displayChart(vegaEmbed) {\n",
       "      vegaEmbed(outputDiv, spec, embedOpt)\n",
       "        .catch(err => showError(`Javascript Error: ${err.message}<br>This usually means there's a typo in your chart specification. See the javascript console for the full traceback.`));\n",
       "    }\n",
       "\n",
       "    if(typeof define === \"function\" && define.amd) {\n",
       "      requirejs.config({paths});\n",
       "      require([\"vega-embed\"], displayChart, err => showError(`Error loading script: ${err.message}`));\n",
       "    } else if (typeof vegaEmbed === \"function\") {\n",
       "      displayChart(vegaEmbed);\n",
       "    } else {\n",
       "      loadScript(\"vega\")\n",
       "        .then(() => loadScript(\"vega-lite\"))\n",
       "        .then(() => loadScript(\"vega-embed\"))\n",
       "        .catch(showError)\n",
       "        .then(() => displayChart(vegaEmbed));\n",
       "    }\n",
       "  })({\"config\": {\"view\": {\"continuousWidth\": 400, \"continuousHeight\": 300}}, \"layer\": [{\"mark\": {\"type\": \"line\", \"interpolate\": \"basis\"}, \"encoding\": {\"color\": {\"type\": \"nominal\", \"field\": \"category\"}, \"x\": {\"type\": \"quantitative\", \"field\": \"epoch\"}, \"y\": {\"type\": \"quantitative\", \"field\": \"loss\"}}}, {\"mark\": \"point\", \"encoding\": {\"opacity\": {\"value\": 0}, \"x\": {\"type\": \"quantitative\", \"field\": \"epoch\"}}, \"selection\": {\"selector004\": {\"type\": \"single\", \"nearest\": true, \"on\": \"mouseover\", \"fields\": [\"epoch\"], \"empty\": \"none\"}}}, {\"mark\": \"point\", \"encoding\": {\"color\": {\"type\": \"nominal\", \"field\": \"category\"}, \"opacity\": {\"condition\": {\"value\": 1, \"selection\": \"selector004\"}, \"value\": 0}, \"x\": {\"type\": \"quantitative\", \"field\": \"epoch\"}, \"y\": {\"type\": \"quantitative\", \"field\": \"loss\"}}}, {\"mark\": {\"type\": \"rule\", \"color\": \"gray\"}, \"encoding\": {\"x\": {\"type\": \"quantitative\", \"field\": \"epoch\"}}, \"transform\": [{\"filter\": {\"selection\": \"selector004\"}}]}, {\"mark\": {\"type\": \"text\", \"align\": \"left\", \"dx\": 5, \"dy\": -5}, \"encoding\": {\"color\": {\"type\": \"nominal\", \"field\": \"category\"}, \"text\": {\"condition\": {\"type\": \"quantitative\", \"field\": \"loss\", \"selection\": \"selector004\"}, \"value\": \" \"}, \"x\": {\"type\": \"quantitative\", \"field\": \"epoch\"}, \"y\": {\"type\": \"quantitative\", \"field\": \"loss\"}}}], \"data\": {\"name\": \"data-21366cfddbaf174705b1b8795cdaf550\"}, \"height\": 300, \"width\": 600, \"$schema\": \"https://vega.github.io/schema/vega-lite/v4.8.1.json\", \"datasets\": {\"data-21366cfddbaf174705b1b8795cdaf550\": [{\"epoch\": 0, \"category\": \"train_loss\", \"loss\": 11.976769909145325}, {\"epoch\": 1, \"category\": \"train_loss\", \"loss\": 3.4314458351435624}, {\"epoch\": 2, \"category\": \"train_loss\", \"loss\": 2.886657221110787}, {\"epoch\": 3, \"category\": \"train_loss\", \"loss\": 2.4630474218233362}, {\"epoch\": 4, \"category\": \"train_loss\", \"loss\": 2.0860528654939547}, {\"epoch\": 5, \"category\": \"train_loss\", \"loss\": 1.4118117056493684}, {\"epoch\": 6, \"category\": \"train_loss\", \"loss\": 1.390668473844453}, {\"epoch\": 7, \"category\": \"train_loss\", \"loss\": 1.2802672695925856}, {\"epoch\": 8, \"category\": \"train_loss\", \"loss\": 1.2748649411314115}, {\"epoch\": 9, \"category\": \"train_loss\", \"loss\": 1.1780826369608481}, {\"epoch\": 10, \"category\": \"train_loss\", \"loss\": 1.2189023119258129}, {\"epoch\": 0, \"category\": \"val_loss\", \"loss\": 10.198460578918457}, {\"epoch\": 1, \"category\": \"val_loss\", \"loss\": 3.6627515043531145}, {\"epoch\": 2, \"category\": \"val_loss\", \"loss\": 3.340911184038435}, {\"epoch\": 3, \"category\": \"val_loss\", \"loss\": 2.9158899784088135}, {\"epoch\": 4, \"category\": \"val_loss\", \"loss\": 2.1010320356913974}, {\"epoch\": 5, \"category\": \"val_loss\", \"loss\": 1.8466413361685616}, {\"epoch\": 6, \"category\": \"val_loss\", \"loss\": 1.7812227521623885}, {\"epoch\": 7, \"category\": \"val_loss\", \"loss\": 1.6533001491001673}, {\"epoch\": 8, \"category\": \"val_loss\", \"loss\": 1.7452857324055262}, {\"epoch\": 9, \"category\": \"val_loss\", \"loss\": 1.6511985404150826}, {\"epoch\": 10, \"category\": \"val_loss\", \"loss\": 1.7003514426095145}]}}, {\"mode\": \"vega-lite\"});\n",
       "</script>"
      ],
      "text/plain": [
       "alt.LayerChart(...)"
      ]
     },
     "execution_count": 43,
     "metadata": {},
     "output_type": "execute_result"
    },
    {
     "data": {
      "image/png": "[encoded data removed]",
      "text/plain": [
       "<Figure size 432x288 with 1 Axes>"
      ]
     },
     "metadata": {
      "needs_background": "light"
     },
     "output_type": "display_data"
    }
   ],
   "source": [
    "# and we can plot the loss curves:\n",
    "\n",
    "ss_utils.plot_train_and_val_using_mpl(out['train_loss_list'], out['val_lost_list'])\n",
    "\n",
    "ss_utils.plot_train_and_val_using_altair(out['train_loss_list'], out['val_lost_list'])\n"
   ]
  },
  {
   "cell_type": "markdown",
   "metadata": {},
   "source": [
    "How did it perform? How did the the number of parameters compare to some of the alternative methods, is this what you expected?\n",
    "\n",
    "🕰  **(optional) Task E -- GNN Modeling Choices:** There are quite a few design choices one can make when deciding on the architecture of a GNN (Gilmer, 2017; Brockschmidt, 2019). Play around with some of these choices. For instance:  \n",
    "* Currently the edge feature information is ignored. Consider instead using this information to adapt the $W$ matrix based on the associated edge type.\n",
    "* What is the effect of using different initial atom features? For example could you add the valency and  hydrogen count to the element one-hot encoding (Duvenaud et al., 2015 , §4.2)?\n",
    "* Consider the addition of virtual edges between all nodes or a master virtual node such that messages can be passed more easily between nodes that are far apart (Gilmer et al., 2017, §5.2).\n",
    "* Consider using attention (Veličković et al., 2017) in the sum when computing messages (Eqn. 1) to downweight/upweight the contribution of different neighbours.\n",
    "\n",
    "\n",
    "🕰  **(optional) Task F -- Combining Representations:** We have now gone through several alternative methods to compute vector representations of molecules. However, these can also be combined, for instance you could concatenate fingerprints and the GNN output to form a graph level representation (Yang et al., 2019, p3373). Try doing this and exploring different ways to combine features from the different models. \n",
    "\n",
    "\n"
   ]
  },
  {
   "cell_type": "markdown",
   "metadata": {},
   "source": [
    "### Section 3.5 Summary and further reading\n",
    "\n",
    "In this section we looked at how to code up different regression models for molecules. In particular, we looked at NNs on fingerprints, CNN and RNNs on SMILES strings, and GNNs on molecular graphs. We tried to get some inutition for their performance and compute characteristics and offered pointers to how the basic implementations of each could be extended. I should quickly point out that we have not performed any extensive hyperparameter/architecture search or evaluated the models on more complicated datasets, both of which would be required in a more comprehensive comparison. If you wish to do this you could follow up on some of the extension tasks and consider some of the architectures/datasets used in the references provided!\n",
    "\n",
    "GNNs (and related models) have quite a long history in chemoinformatics, e.g. (Kireev, 1995; Merkwirth and Lengauer, 2005). They have also picked up a lot of interest recently in the ML community, where they have also been used to represent many other kinds of data such as physical systems, citation networks, knowledge graphs, or social networks (e.g. see (Kipf and Welling, 2017; Battaglia et al., 2016; Hu et al., 2020; Dai et al., 2017; Hamilton et al., 2017; Bronstein et al., 2016) and the references therein).  Battaglia et al.  (2018), especially §3-4, is well worth reading, as it unifies some of the existing approaches as does Gilmer et al. (2017).\n",
    "\n",
    "In this notebook we presented one pattern for implementing graph neural networks based on maintaing an edge list. This enabled the easy batching together of multiple graphs with different numbers of nodes (through the `concatenate` function you wrote). However, alternative patterns also have their own pros/cons, for instance you can store graphs as adjacency matrices and do the message passing step by matrix multiplication; you can find my code for playing around with such ideas [here](https://github.com/john-bradshaw/GNN). If you want well-documented, well-maintained libraries for working with GNNs, I recommend checking out [PyTorch Geometric](https://github.com/rusty1s/pytorch_geometric) or the [Deep Graph Library (DGL)](https://github.com/dmlc/dgl). You can see recent talks talking about what is new in these libraries at this [recent ICML workshop (time 3:42:42)](https://icml.cc/virtual/2020/workshop/5715)."
   ]
  },
  {
   "cell_type": "markdown",
   "metadata": {},
   "source": [
    "## References\n",
    "\n",
    "Weininger D (1988) SMILES, a chemical language and information system. 1. Introduction to methodology and encoding rules. Journal of chemical information and computer sciences 28(1). American Chemical Society: 31–36.\n",
    "\n",
    "Heller, S., McNaught, A., Stein, S., Tchekhovskoi, D. and Pletnev, I. (2013) ‘InChI - the worldwide chemical structure identifier standard’, Journal of cheminformatics, 5(1), p. 7.\n",
    "\n",
    "Shervashidze, N., Schweitzer, P., Van Leeuwen, E. J., Mehlhorn, K. and Borgwardt, K. M. (2011) ‘Weisfeiler-Lehman graph kernels’, Journal of machine learning research: JMLR, 12(9). Available at: https://jmlr.csail.mit.edu/papers/volume12/shervashidze11a/shervashidze11a.pdf.\n",
    "\n",
    "Duvenaud, D., Maclaurin, D., Aguilera-Iparraguirre, J., Gómez-Bombarelli, R., Hirzel, T., Aspuru-Guzik, A. and Adams, R. P. (2015) ‘Convolutional Networks on Graphs for Learning Molecular Fingerprints’, arXiv [cs.LG]. Available at: http://arxiv.org/abs/1509.09292.\n",
    "\n",
    "Rogers, D. and Hahn, M. (2010) ‘Extended-connectivity fingerprints’, Journal of chemical information and modeling, 50(5), pp. 742–754.\n",
    "\n",
    "Gilmer, J., Schoenholz, S. S., Riley, P. F., Vinyals, O. and Dahl, G. E. (2017) ‘Neural Message Passing for Quantum Chemistry’, arXiv [cs.LG]. Available at: http://arxiv.org/abs/1704.01212.\n",
    "\n",
    "Riniker, S. and Landrum, G. A. (2013) ‘Open-source platform to benchmark fingerprints for ligand-based virtual screening’, Journal of cheminformatics, 5(1), p. 26.\n",
    "\n",
    "Bjerrum, E. J. (2017) ‘SMILES Enumeration as Data Augmentation for Neural Network Modeling of Molecules’, arXiv [cs.LG]. Available at: http://arxiv.org/abs/1703.07076.\n",
    "\n",
    "Schwaller, P., Laino, T., Gaudin, T., Bolgar, P., Hunter, C. A., Bekas, C. and Lee, A. A. (2019) ‘Molecular Transformer: A Model for Uncertainty-Calibrated Chemical Reaction Prediction’, ACS central science, 5(9), pp. 1572–1583.\n",
    "\n",
    "Johnson, D. D. (2017) ‘Learning Graphical State Transitions’, in ICLR. Available at: https://openreview.net/pdf?id=HJ0NvFzxl (Accessed: 2 August 2018).\n",
    "\n",
    "Li, Y., Tarlow, D., Brockschmidt, M. and Zemel, R. (2015) ‘Gated Graph Sequence Neural Networks’, arXiv [cs.LG]. Available at: http://arxiv.org/abs/1511.05493.\n",
    "\n",
    "Cho, K., van Merrienboer, B., Gulcehre, C., Bahdanau, D., Bougares, F., Schwenk, H. and Bengio, Y. (2014) ‘Learning Phrase Representations using RNN Encoder--Decoder for Statistical Machine Translation’, in Proceedings of the 2014 Conference on Empirical Methods in Natural Language Processing (EMNLP), pp. 1724–1734.\n",
    "\n",
    "Veličković, P., Cucurull, G., Casanova, A., Romero, A., Liò, P. and Bengio, Y. (2017) ‘Graph Attention Networks’, arXiv [stat.ML]. Available at: http://arxiv.org/abs/1710.10903.\n",
    "\n",
    "Brockschmidt, M. (2019) ‘GNN-FiLM: Graph Neural Networks with Feature-wise Linear Modulation’, arXiv [cs.LG]. Available at: http://arxiv.org/abs/1906.12192.\n",
    "\n",
    "Yang, K., Swanson, K., Jin, W., Coley, C., Eiden, P., Gao, H., Guzman-Perez, A., Hopper, T., Kelley, B., Mathea, M., Palmer, A., Settels, V., Jaakkola, T., Jensen, K. and Barzilay, R. (2019) ‘Analyzing Learned Molecular Representations for Property Prediction’, Journal of chemical information and modeling, 59(8), pp. 3370–3388.\n",
    "\n",
    "Kireev, D. B. (1995) ‘ChemNet: A Novel Neural Network Based Method for Graph/Property Mapping’, Journal of chemical information and computer sciences. American Chemical Society, 35(2), pp. 175–180.\n",
    "\n",
    "Merkwirth, C. and Lengauer, T. (2005) ‘Automatic generation of complementary descriptors with molecular graph networks’, Journal of chemical information and modeling, 45(5), pp. 1159–1168.\n",
    "\n",
    "Kipf, T. N. and Welling, M. (2017) ‘Semi-Supervised Classification with Graph Convolutional Networks’, in. ICLR. Available at: http://arxiv.org/abs/1609.02907.\n",
    "\n",
    "Hamilton, W. L., Ying, R. and Leskovec, J. (2017) ‘Representation Learning on Graphs: Methods and Applications’, arXiv [cs.SI]. Available at: http://arxiv.org/abs/1709.05584.\n",
    "\n",
    "Battaglia, P. W., Hamrick, J. B., Bapst, V., Sanchez-Gonzalez, A., Zambaldi, V., Malinowski, M., Tacchetti, A., Raposo, D., Santoro, A., Faulkner, R., Gulcehre, C., Song, F., Ballard, A., Gilmer, J., Dahl, G., Vaswani, A., Allen, K., Nash, C., Langston, V., Dyer, C., Heess, N., Wierstra, D., Kohli, P., Botvinick, M., Vinyals, O., Li, Y. and Pascanu, R. (2018) ‘Relational inductive biases, deep learning, and graph networks’, arXiv [cs.LG]. Available at: http://arxiv.org/abs/1806.01261.\n",
    "\n",
    "Battaglia, P. W., Pascanu, R., Lai, M., Rezende, D. and Kavukcuoglu, K. (2016) ‘Interaction Networks for Learning about Objects, Relations and Physics’, arXiv [cs.AI]. Available at: http://arxiv.org/abs/1612.00222.\n",
    "\n",
    "Hu, W., Fey, M., Zitnik, M., Dong, Y., Ren, H., Liu, B., Catasta, M. and Leskovec, J. (2020) ‘Open Graph Benchmark: Datasets for Machine Learning on Graphs’, arXiv [cs.LG]. Available at: http://arxiv.org/abs/2005.00687.\n",
    "\n",
    "Dai, H., Khalil, E. B., Zhang, Y., Dilkina, B. and Song, L. (2017) ‘Learning Combinatorial Optimization Algorithms over Graphs’, arXiv [cs.LG]. Available at: http://arxiv.org/abs/1704.01665.\n",
    "\n",
    "William L. Hamilton. (2020). Graph Representation Learning. Morgan & Claypool, forthcoming .\n",
    "\n",
    "Bronstein, M. M., Bruna, J., LeCun, Y., Szlam, A. and Vandergheynst, P. (2016) ‘Geometric deep learning: going beyond Euclidean data’, arXiv [cs.CV]. Available at: http://arxiv.org/abs/1611.08097.\n",
    "\n",
    "Delaney, J. S. (2004) ‘ESOL: estimating aqueous solubility directly from molecular structure’, Journal of chemical information and computer sciences, 44(3), pp. 1000–1005."
   ]
  }
 ],
 "metadata": {
  "kernelspec": {
   "display_name": "Python 3",
   "language": "python",
   "name": "python3"
  },
  "language_info": {
   "codemirror_mode": {
    "name": "ipython",
    "version": 3
   },
   "file_extension": ".py",
   "mimetype": "text/x-python",
   "name": "python",
   "nbconvert_exporter": "python",
   "pygments_lexer": "ipython3",
   "version": "3.7.7"
  }
 },
 "nbformat": 4,
 "nbformat_minor": 4
}
